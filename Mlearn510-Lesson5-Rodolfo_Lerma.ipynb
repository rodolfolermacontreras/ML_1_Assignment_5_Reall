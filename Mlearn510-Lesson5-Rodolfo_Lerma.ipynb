{
 "cells": [
  {
   "cell_type": "markdown",
   "metadata": {},
   "source": [
    "# Predictive Maintenance \n",
    "\n",
    "### Student: Rodolfo Lerma"
   ]
  },
  {
   "cell_type": "markdown",
   "metadata": {},
   "source": [
    "This assignment covers the topic of predictive maintenance. Predictive Maintenance problems adress predicting when a machine needs to be maintained ahead of breaking down. This problem can occur anywhere regular maintenance is required for a machine. For example, it can be used in manufacturing, fleet operations, train maintenance, etc."
   ]
  },
  {
   "cell_type": "markdown",
   "metadata": {},
   "source": [
    "This assignment will use the [Predictive Maintenance Dataset](https://archive.ics.uci.edu/ml/datasets/AI4I+2020+Predictive+Maintenance+Dataset). The dataset consists of 10 000 data points stored as rows with 14 features in columns. The 'machine failure' label that indicates, whether the machine has failed in this particular datapoint."
   ]
  },
  {
   "cell_type": "markdown",
   "metadata": {},
   "source": [
    "# Learning Objectives\n",
    "- Perform model tuning based on hyper parameters.\n",
    "- Select the best model after attempting multiple models.\n",
    "- Perform recursive feature elimination, producing a statistically significant improvement over a model without feature selection."
   ]
  },
  {
   "cell_type": "code",
   "execution_count": 1,
   "metadata": {},
   "outputs": [
    {
     "name": "stdout",
     "output_type": "stream",
     "text": [
      "<class 'pandas.core.frame.DataFrame'>\n",
      "RangeIndex: 10000 entries, 0 to 9999\n",
      "Data columns (total 9 columns):\n",
      "UDI                        10000 non-null int64\n",
      "Product ID                 10000 non-null object\n",
      "Type                       10000 non-null object\n",
      "Air temperature [K]        10000 non-null object\n",
      "Process temperature [K]    10000 non-null object\n",
      "Rotational speed [rpm]     10000 non-null int64\n",
      "Torque [Nm]                10000 non-null float64\n",
      "Tool wear [min]            10000 non-null int64\n",
      "Machine failure            10000 non-null int64\n",
      "dtypes: float64(1), int64(4), object(4)\n",
      "memory usage: 703.2+ KB\n",
      "None\n"
     ]
    }
   ],
   "source": [
    "import pandas as pd\n",
    "import numpy as np\n",
    "from sklearn import preprocessing, metrics\n",
    "from sklearn.model_selection import train_test_split\n",
    "\n",
    "ai4i2020 = pd.read_csv('ai4i2020.csv')\n",
    "print(ai4i2020.info())"
   ]
  },
  {
   "cell_type": "code",
   "execution_count": 2,
   "metadata": {},
   "outputs": [
    {
     "data": {
      "text/html": [
       "<div>\n",
       "<style scoped>\n",
       "    .dataframe tbody tr th:only-of-type {\n",
       "        vertical-align: middle;\n",
       "    }\n",
       "\n",
       "    .dataframe tbody tr th {\n",
       "        vertical-align: top;\n",
       "    }\n",
       "\n",
       "    .dataframe thead th {\n",
       "        text-align: right;\n",
       "    }\n",
       "</style>\n",
       "<table border=\"1\" class=\"dataframe\">\n",
       "  <thead>\n",
       "    <tr style=\"text-align: right;\">\n",
       "      <th></th>\n",
       "      <th>UDI</th>\n",
       "      <th>Product ID</th>\n",
       "      <th>Type</th>\n",
       "      <th>Air temperature [K]</th>\n",
       "      <th>Process temperature [K]</th>\n",
       "      <th>Rotational speed [rpm]</th>\n",
       "      <th>Torque [Nm]</th>\n",
       "      <th>Tool wear [min]</th>\n",
       "      <th>Machine failure</th>\n",
       "    </tr>\n",
       "  </thead>\n",
       "  <tbody>\n",
       "    <tr>\n",
       "      <th>0</th>\n",
       "      <td>1</td>\n",
       "      <td>M14860</td>\n",
       "      <td>M</td>\n",
       "      <td>298.1</td>\n",
       "      <td>308.6</td>\n",
       "      <td>1551</td>\n",
       "      <td>42.8</td>\n",
       "      <td>0</td>\n",
       "      <td>0</td>\n",
       "    </tr>\n",
       "    <tr>\n",
       "      <th>1</th>\n",
       "      <td>2</td>\n",
       "      <td>L47181</td>\n",
       "      <td>L</td>\n",
       "      <td>298.2</td>\n",
       "      <td>308.7</td>\n",
       "      <td>1408</td>\n",
       "      <td>46.3</td>\n",
       "      <td>3</td>\n",
       "      <td>0</td>\n",
       "    </tr>\n",
       "    <tr>\n",
       "      <th>2</th>\n",
       "      <td>3</td>\n",
       "      <td>L47182</td>\n",
       "      <td>L</td>\n",
       "      <td>298.1</td>\n",
       "      <td>308.5</td>\n",
       "      <td>1498</td>\n",
       "      <td>49.4</td>\n",
       "      <td>5</td>\n",
       "      <td>0</td>\n",
       "    </tr>\n",
       "    <tr>\n",
       "      <th>3</th>\n",
       "      <td>4</td>\n",
       "      <td>L47183</td>\n",
       "      <td>L</td>\n",
       "      <td>298.2</td>\n",
       "      <td>308.6</td>\n",
       "      <td>1433</td>\n",
       "      <td>39.5</td>\n",
       "      <td>7</td>\n",
       "      <td>0</td>\n",
       "    </tr>\n",
       "    <tr>\n",
       "      <th>4</th>\n",
       "      <td>5</td>\n",
       "      <td>L47184</td>\n",
       "      <td>L</td>\n",
       "      <td>298.2</td>\n",
       "      <td>308.7</td>\n",
       "      <td>1408</td>\n",
       "      <td>40.0</td>\n",
       "      <td>9</td>\n",
       "      <td>0</td>\n",
       "    </tr>\n",
       "    <tr>\n",
       "      <th>5</th>\n",
       "      <td>6</td>\n",
       "      <td>M14865</td>\n",
       "      <td>M</td>\n",
       "      <td>298.1</td>\n",
       "      <td>308.6</td>\n",
       "      <td>1425</td>\n",
       "      <td>41.9</td>\n",
       "      <td>11</td>\n",
       "      <td>0</td>\n",
       "    </tr>\n",
       "    <tr>\n",
       "      <th>6</th>\n",
       "      <td>7</td>\n",
       "      <td>L47186</td>\n",
       "      <td>L</td>\n",
       "      <td>298.1</td>\n",
       "      <td>308.6</td>\n",
       "      <td>1558</td>\n",
       "      <td>42.4</td>\n",
       "      <td>14</td>\n",
       "      <td>0</td>\n",
       "    </tr>\n",
       "    <tr>\n",
       "      <th>7</th>\n",
       "      <td>8</td>\n",
       "      <td>L47187</td>\n",
       "      <td>L</td>\n",
       "      <td>298.1</td>\n",
       "      <td>308.6</td>\n",
       "      <td>1527</td>\n",
       "      <td>40.2</td>\n",
       "      <td>16</td>\n",
       "      <td>0</td>\n",
       "    </tr>\n",
       "    <tr>\n",
       "      <th>8</th>\n",
       "      <td>9</td>\n",
       "      <td>M14868</td>\n",
       "      <td>M</td>\n",
       "      <td>298.3</td>\n",
       "      <td>308.7</td>\n",
       "      <td>1667</td>\n",
       "      <td>28.6</td>\n",
       "      <td>18</td>\n",
       "      <td>0</td>\n",
       "    </tr>\n",
       "    <tr>\n",
       "      <th>9</th>\n",
       "      <td>10</td>\n",
       "      <td>M14869</td>\n",
       "      <td>M</td>\n",
       "      <td>298.5</td>\n",
       "      <td>309</td>\n",
       "      <td>1741</td>\n",
       "      <td>28.0</td>\n",
       "      <td>21</td>\n",
       "      <td>0</td>\n",
       "    </tr>\n",
       "  </tbody>\n",
       "</table>\n",
       "</div>"
      ],
      "text/plain": [
       "   UDI Product ID Type Air temperature [K] Process temperature [K]  \\\n",
       "0    1     M14860    M               298.1                   308.6   \n",
       "1    2     L47181    L               298.2                   308.7   \n",
       "2    3     L47182    L               298.1                   308.5   \n",
       "3    4     L47183    L               298.2                   308.6   \n",
       "4    5     L47184    L               298.2                   308.7   \n",
       "5    6     M14865    M               298.1                   308.6   \n",
       "6    7     L47186    L               298.1                   308.6   \n",
       "7    8     L47187    L               298.1                   308.6   \n",
       "8    9     M14868    M               298.3                   308.7   \n",
       "9   10     M14869    M               298.5                     309   \n",
       "\n",
       "   Rotational speed [rpm]  Torque [Nm]  Tool wear [min]  Machine failure  \n",
       "0                    1551         42.8                0                0  \n",
       "1                    1408         46.3                3                0  \n",
       "2                    1498         49.4                5                0  \n",
       "3                    1433         39.5                7                0  \n",
       "4                    1408         40.0                9                0  \n",
       "5                    1425         41.9               11                0  \n",
       "6                    1558         42.4               14                0  \n",
       "7                    1527         40.2               16                0  \n",
       "8                    1667         28.6               18                0  \n",
       "9                    1741         28.0               21                0  "
      ]
     },
     "execution_count": 2,
     "metadata": {},
     "output_type": "execute_result"
    }
   ],
   "source": [
    "ai4i2020.head(10)"
   ]
  },
  {
   "cell_type": "code",
   "execution_count": 3,
   "metadata": {},
   "outputs": [
    {
     "data": {
      "text/plain": [
       "(10000, 9)"
      ]
     },
     "execution_count": 3,
     "metadata": {},
     "output_type": "execute_result"
    }
   ],
   "source": [
    "ai4i2020.shape"
   ]
  },
  {
   "cell_type": "code",
   "execution_count": 4,
   "metadata": {},
   "outputs": [
    {
     "data": {
      "text/plain": [
       "UDI                          int64\n",
       "Product ID                  object\n",
       "Type                        object\n",
       "Air temperature [K]         object\n",
       "Process temperature [K]     object\n",
       "Rotational speed [rpm]       int64\n",
       "Torque [Nm]                float64\n",
       "Tool wear [min]              int64\n",
       "Machine failure              int64\n",
       "dtype: object"
      ]
     },
     "execution_count": 4,
     "metadata": {},
     "output_type": "execute_result"
    }
   ],
   "source": [
    "ai4i2020.dtypes"
   ]
  },
  {
   "cell_type": "markdown",
   "metadata": {},
   "source": [
    "## Question 1.1:  Write a command that will calculate the number of unique values for each feature in the training data."
   ]
  },
  {
   "cell_type": "code",
   "execution_count": 5,
   "metadata": {
    "scrolled": false
   },
   "outputs": [
    {
     "name": "stdout",
     "output_type": "stream",
     "text": [
      " \n",
      "****************\n",
      " \n",
      "L    6000\n",
      "M    2997\n",
      "H    1003\n",
      "Name: Type, dtype: int64\n",
      " \n",
      "****************\n",
      " \n",
      "300.7    279\n",
      "298.9    231\n",
      "297.4    230\n",
      "300.5    229\n",
      "298.8    227\n",
      "300.6    216\n",
      "298.2    208\n",
      "302.3    203\n",
      "300.4    198\n",
      "297.5    198\n",
      "300.8    196\n",
      "298.1    188\n",
      "300.3    188\n",
      "298      184\n",
      "300.2    182\n",
      "299      177\n",
      "298.3    175\n",
      "300.9    166\n",
      "302.2    166\n",
      "300.1    164\n",
      "298.4    159\n",
      "297.3    155\n",
      "301      155\n",
      "302.4    151\n",
      "301.5    150\n",
      "299.1    150\n",
      "297.6    148\n",
      "298.6    147\n",
      "297.9    146\n",
      "299.2    145\n",
      "        ... \n",
      "296.8     61\n",
      "297       61\n",
      "303       60\n",
      "302.9     59\n",
      "303.9     58\n",
      "303.3     57\n",
      "302.8     57\n",
      "304.1     46\n",
      "304       45\n",
      "304.2     40\n",
      "295.6     38\n",
      "303.1     38\n",
      "296.7     37\n",
      "296.6     30\n",
      "296.3     28\n",
      "296.2     26\n",
      "303.2     23\n",
      "295.8     19\n",
      "295.5     18\n",
      "295.7     18\n",
      "296.4     17\n",
      "296.5     17\n",
      "304.3     15\n",
      "296.1     12\n",
      "295.9     10\n",
      "304.4      7\n",
      "296        6\n",
      "295.3      3\n",
      "295.4      3\n",
      "304.5      1\n",
      "Name: Air temperature [K], Length: 93, dtype: int64\n",
      " \n",
      "****************\n",
      " \n",
      "310.6    317\n",
      "310.8    273\n",
      "310.7    266\n",
      "308.6    265\n",
      "310.5    263\n",
      "310.1    260\n",
      "308.5    257\n",
      "310.4    254\n",
      "311      246\n",
      "310.9    245\n",
      "309.6    242\n",
      "308.4    237\n",
      "309.4    223\n",
      "311.1    222\n",
      "308.7    218\n",
      "309.1    218\n",
      "310.2    213\n",
      "311.2    210\n",
      "309.2    208\n",
      "311.4    207\n",
      "309      205\n",
      "309.5    203\n",
      "308.3    202\n",
      "309.7    200\n",
      "309.3    193\n",
      "309.8    191\n",
      "?        183\n",
      "310.3    182\n",
      "309.9    178\n",
      "308.9    173\n",
      "        ... \n",
      "307.4     57\n",
      "313       55\n",
      "312.6     53\n",
      "313.1     50\n",
      "313.2     50\n",
      "312.9     43\n",
      "312.8     43\n",
      "307.3     36\n",
      "307.2     36\n",
      "313.3     29\n",
      "306.2     26\n",
      "313.4     24\n",
      "313.5     22\n",
      "307.1     20\n",
      "306.1     17\n",
      "313.6     16\n",
      "306       14\n",
      "306.3     13\n",
      "306.6     13\n",
      "306.5      9\n",
      "306.4      8\n",
      "305.9      6\n",
      "306.7      5\n",
      "307        5\n",
      "313.7      4\n",
      "306.8      4\n",
      "306.9      4\n",
      "305.8      3\n",
      "305.7      2\n",
      "313.8      2\n",
      "Name: Process temperature [K], Length: 82, dtype: int64\n",
      " \n",
      "****************\n",
      " \n",
      "1452    48\n",
      "1435    43\n",
      "1447    42\n",
      "1469    40\n",
      "1479    40\n",
      "1429    40\n",
      "1418    39\n",
      "1507    39\n",
      "1450    39\n",
      "1446    38\n",
      "1477    38\n",
      "1448    37\n",
      "1486    37\n",
      "1445    36\n",
      "1397    36\n",
      "1465    35\n",
      "1505    35\n",
      "1456    35\n",
      "1462    35\n",
      "1492    35\n",
      "1471    35\n",
      "1434    34\n",
      "1495    34\n",
      "1487    34\n",
      "1412    34\n",
      "1483    34\n",
      "1530    34\n",
      "1459    34\n",
      "1470    34\n",
      "1433    34\n",
      "        ..\n",
      "2261     1\n",
      "2093     1\n",
      "2293     1\n",
      "2381     1\n",
      "2421     1\n",
      "2437     1\n",
      "2549     1\n",
      "2709     1\n",
      "2861     1\n",
      "2101     1\n",
      "2077     1\n",
      "2514     1\n",
      "1859     1\n",
      "2706     1\n",
      "2874     1\n",
      "1235     1\n",
      "1251     1\n",
      "1259     1\n",
      "1267     1\n",
      "1835     1\n",
      "1899     1\n",
      "2069     1\n",
      "1971     1\n",
      "1979     1\n",
      "2003     1\n",
      "2011     1\n",
      "2027     1\n",
      "2035     1\n",
      "2053     1\n",
      "2049     1\n",
      "Name: Rotational speed [rpm], Length: 941, dtype: int64\n",
      " \n",
      "****************\n",
      " \n",
      "40.2    52\n",
      "42.4    50\n",
      "35.8    50\n",
      "38.5    50\n",
      "37.7    49\n",
      "40.6    48\n",
      "38.2    48\n",
      "39.9    48\n",
      "35.2    47\n",
      "36.6    47\n",
      "40.0    47\n",
      "41.2    47\n",
      "42.5    46\n",
      "43.4    46\n",
      "37.9    46\n",
      "36.0    45\n",
      "40.4    45\n",
      "47.3    45\n",
      "43.2    45\n",
      "39.0    44\n",
      "36.1    44\n",
      "38.8    44\n",
      "44.5    44\n",
      "42.8    44\n",
      "43.9    44\n",
      "41.8    43\n",
      "40.7    43\n",
      "46.6    42\n",
      "37.2    42\n",
      "34.6    42\n",
      "        ..\n",
      "62.2     1\n",
      "65.8     1\n",
      "67.2     1\n",
      "70.5     1\n",
      "8.8      1\n",
      "19.5     1\n",
      "62.6     1\n",
      "66.4     1\n",
      "66.3     1\n",
      "69.0     1\n",
      "63.5     1\n",
      "71.8     1\n",
      "12.7     1\n",
      "74.5     1\n",
      "68.5     1\n",
      "72.8     1\n",
      "9.3      1\n",
      "65.1     1\n",
      "15.6     1\n",
      "70.6     1\n",
      "16.4     1\n",
      "66.5     1\n",
      "63.1     1\n",
      "63.2     1\n",
      "69.6     1\n",
      "9.8      1\n",
      "76.2     1\n",
      "73.6     1\n",
      "5.6      1\n",
      "76.6     1\n",
      "Name: Torque [Nm], Length: 577, dtype: int64\n",
      " \n",
      "****************\n",
      " \n",
      "0      120\n",
      "2       69\n",
      "5       63\n",
      "59      58\n",
      "7       58\n",
      "119     57\n",
      "166     57\n",
      "9       55\n",
      "146     54\n",
      "181     54\n",
      "96      54\n",
      "148     54\n",
      "124     53\n",
      "137     53\n",
      "15      53\n",
      "179     53\n",
      "33      53\n",
      "150     52\n",
      "17      52\n",
      "76      52\n",
      "171     52\n",
      "98      52\n",
      "74      52\n",
      "44      52\n",
      "92      51\n",
      "160     51\n",
      "85      51\n",
      "35      51\n",
      "94      51\n",
      "142     51\n",
      "      ... \n",
      "218     21\n",
      "221     18\n",
      "219     17\n",
      "222     13\n",
      "223     13\n",
      "216     13\n",
      "220     11\n",
      "225      9\n",
      "227      7\n",
      "229      7\n",
      "228      7\n",
      "231      7\n",
      "233      6\n",
      "226      6\n",
      "224      5\n",
      "235      4\n",
      "230      3\n",
      "234      3\n",
      "246      3\n",
      "244      3\n",
      "232      3\n",
      "240      3\n",
      "242      2\n",
      "238      2\n",
      "239      1\n",
      "241      1\n",
      "236      1\n",
      "237      1\n",
      "253      1\n",
      "251      1\n",
      "Name: Tool wear [min], Length: 246, dtype: int64\n",
      " \n",
      "****************\n",
      " \n",
      "0    9661\n",
      "1     339\n",
      "Name: Machine failure, dtype: int64\n"
     ]
    }
   ],
   "source": [
    "columns_names = ai4i2020.columns.to_list()\n",
    "updated_columns = columns_names.copy()\n",
    "updated_columns.remove(\"UDI\")\n",
    "updated_columns.remove(\"Product ID\")\n",
    "\n",
    "for i in updated_columns:\n",
    "    unique_values = ai4i2020[i].value_counts(dropna=False)\n",
    "    print(' ')\n",
    "    print('****************')\n",
    "    print(' ')\n",
    "    print(unique_values)"
   ]
  },
  {
   "cell_type": "code",
   "execution_count": 6,
   "metadata": {},
   "outputs": [
    {
     "name": "stdout",
     "output_type": "stream",
     "text": [
      "Number of Unique Values per Column\n",
      " \n",
      "UDI\n",
      "10000\n",
      " \n",
      "************\n",
      "Product ID\n",
      "10000\n",
      " \n",
      "************\n",
      "Type\n",
      "3\n",
      " \n",
      "************\n",
      "Air temperature [K]\n",
      "93\n",
      " \n",
      "************\n",
      "Process temperature [K]\n",
      "82\n",
      " \n",
      "************\n",
      "Rotational speed [rpm]\n",
      "941\n",
      " \n",
      "************\n",
      "Torque [Nm]\n",
      "577\n",
      " \n",
      "************\n",
      "Tool wear [min]\n",
      "246\n",
      " \n",
      "************\n",
      "Machine failure\n",
      "2\n",
      " \n",
      "************\n"
     ]
    }
   ],
   "source": [
    "print('Number of Unique Values per Column')\n",
    "print(' ')\n",
    "for i in columns_names:\n",
    "    unique = ai4i2020[i].nunique()\n",
    "    print(i)\n",
    "    print(unique)\n",
    "    print(' ')\n",
    "    print('************')"
   ]
  },
  {
   "cell_type": "markdown",
   "metadata": {},
   "source": [
    "## Question 1.2: Determine if the data contains any missing values, and replace the values with np.nan. Missing values would be '?'."
   ]
  },
  {
   "cell_type": "code",
   "execution_count": 7,
   "metadata": {},
   "outputs": [],
   "source": [
    "ai4i2020.replace('?', np.nan, inplace=True)"
   ]
  },
  {
   "cell_type": "code",
   "execution_count": 8,
   "metadata": {},
   "outputs": [
    {
     "data": {
      "text/plain": [
       "UDI                          0\n",
       "Product ID                   0\n",
       "Type                         0\n",
       "Air temperature [K]        140\n",
       "Process temperature [K]    183\n",
       "Rotational speed [rpm]       0\n",
       "Torque [Nm]                  0\n",
       "Tool wear [min]              0\n",
       "Machine failure              0\n",
       "dtype: int64"
      ]
     },
     "execution_count": 8,
     "metadata": {},
     "output_type": "execute_result"
    }
   ],
   "source": [
    "ai4i2020.isnull().sum() #checking the dataset for NaN values .... NaN values in two columns"
   ]
  },
  {
   "cell_type": "markdown",
   "metadata": {},
   "source": [
    "## Question 1.3: Replace all missing values with the mean. Change column types to numeric."
   ]
  },
  {
   "cell_type": "code",
   "execution_count": 9,
   "metadata": {},
   "outputs": [],
   "source": [
    "#replace missing values with their mode\n",
    "import statistics as st\n",
    "sample_columns = ['Air temperature [K]','Process temperature [K]']\n",
    "for i in sample_columns:\n",
    "    ai4i2020[i] = pd.to_numeric(ai4i2020[i])\n",
    "    ai4i2020[i].fillna(np.mean(ai4i2020[i]), inplace=True)"
   ]
  },
  {
   "cell_type": "markdown",
   "metadata": {},
   "source": [
    "## Question 1.4: Drop UDI and 'Product ID' from the data"
   ]
  },
  {
   "cell_type": "code",
   "execution_count": 10,
   "metadata": {},
   "outputs": [
    {
     "data": {
      "text/html": [
       "<div>\n",
       "<style scoped>\n",
       "    .dataframe tbody tr th:only-of-type {\n",
       "        vertical-align: middle;\n",
       "    }\n",
       "\n",
       "    .dataframe tbody tr th {\n",
       "        vertical-align: top;\n",
       "    }\n",
       "\n",
       "    .dataframe thead th {\n",
       "        text-align: right;\n",
       "    }\n",
       "</style>\n",
       "<table border=\"1\" class=\"dataframe\">\n",
       "  <thead>\n",
       "    <tr style=\"text-align: right;\">\n",
       "      <th></th>\n",
       "      <th>Type</th>\n",
       "      <th>Air temperature [K]</th>\n",
       "      <th>Process temperature [K]</th>\n",
       "      <th>Rotational speed [rpm]</th>\n",
       "      <th>Torque [Nm]</th>\n",
       "      <th>Tool wear [min]</th>\n",
       "      <th>Machine failure</th>\n",
       "    </tr>\n",
       "  </thead>\n",
       "  <tbody>\n",
       "    <tr>\n",
       "      <th>0</th>\n",
       "      <td>M</td>\n",
       "      <td>298.1</td>\n",
       "      <td>308.6</td>\n",
       "      <td>1551</td>\n",
       "      <td>42.8</td>\n",
       "      <td>0</td>\n",
       "      <td>0</td>\n",
       "    </tr>\n",
       "    <tr>\n",
       "      <th>1</th>\n",
       "      <td>L</td>\n",
       "      <td>298.2</td>\n",
       "      <td>308.7</td>\n",
       "      <td>1408</td>\n",
       "      <td>46.3</td>\n",
       "      <td>3</td>\n",
       "      <td>0</td>\n",
       "    </tr>\n",
       "    <tr>\n",
       "      <th>2</th>\n",
       "      <td>L</td>\n",
       "      <td>298.1</td>\n",
       "      <td>308.5</td>\n",
       "      <td>1498</td>\n",
       "      <td>49.4</td>\n",
       "      <td>5</td>\n",
       "      <td>0</td>\n",
       "    </tr>\n",
       "    <tr>\n",
       "      <th>3</th>\n",
       "      <td>L</td>\n",
       "      <td>298.2</td>\n",
       "      <td>308.6</td>\n",
       "      <td>1433</td>\n",
       "      <td>39.5</td>\n",
       "      <td>7</td>\n",
       "      <td>0</td>\n",
       "    </tr>\n",
       "    <tr>\n",
       "      <th>4</th>\n",
       "      <td>L</td>\n",
       "      <td>298.2</td>\n",
       "      <td>308.7</td>\n",
       "      <td>1408</td>\n",
       "      <td>40.0</td>\n",
       "      <td>9</td>\n",
       "      <td>0</td>\n",
       "    </tr>\n",
       "  </tbody>\n",
       "</table>\n",
       "</div>"
      ],
      "text/plain": [
       "  Type  Air temperature [K]  Process temperature [K]  Rotational speed [rpm]  \\\n",
       "0    M                298.1                    308.6                    1551   \n",
       "1    L                298.2                    308.7                    1408   \n",
       "2    L                298.1                    308.5                    1498   \n",
       "3    L                298.2                    308.6                    1433   \n",
       "4    L                298.2                    308.7                    1408   \n",
       "\n",
       "   Torque [Nm]  Tool wear [min]  Machine failure  \n",
       "0         42.8                0                0  \n",
       "1         46.3                3                0  \n",
       "2         49.4                5                0  \n",
       "3         39.5                7                0  \n",
       "4         40.0                9                0  "
      ]
     },
     "execution_count": 10,
     "metadata": {},
     "output_type": "execute_result"
    }
   ],
   "source": [
    "ai4i2020.drop(columns=['UDI', 'Product ID'], inplace=True)\n",
    "ai4i2020.head()"
   ]
  },
  {
   "cell_type": "markdown",
   "metadata": {},
   "source": [
    "## Question 2.2: Apply [One-Hot Encoding](https://scikit-learn.org/stable/modules/generated/sklearn.preprocessing.OneHotEncoder.html) to data. Make sure to Fit the training data and transform both training and test data. "
   ]
  },
  {
   "cell_type": "code",
   "execution_count": 11,
   "metadata": {},
   "outputs": [],
   "source": [
    "from sklearn.preprocessing import OneHotEncoder\n",
    "\n",
    "hot_encoder = OneHotEncoder(sparse=False)\n",
    "x = ai4i2020['Type'].values.reshape(-1, 1)\n",
    "ai4i2020_hot = hot_encoder.fit_transform(x)\n",
    "\n",
    "#The names of the values/categories\n",
    "column_names = hot_encoder.categories_"
   ]
  },
  {
   "cell_type": "code",
   "execution_count": 12,
   "metadata": {},
   "outputs": [],
   "source": [
    "for i in range(3):\n",
    "    ai4i2020[column_names[0][i]] = ai4i2020_hot[:,i].tolist()"
   ]
  },
  {
   "cell_type": "code",
   "execution_count": 13,
   "metadata": {},
   "outputs": [],
   "source": [
    "ai4i2020.drop(columns=['Type'], inplace = True)"
   ]
  },
  {
   "cell_type": "markdown",
   "metadata": {},
   "source": [
    "## Question 2.1: Split the data into training and testing taking into consideration 'Machine failure' as the target (y)"
   ]
  },
  {
   "cell_type": "code",
   "execution_count": 14,
   "metadata": {},
   "outputs": [],
   "source": [
    "columns_no_target = ai4i2020.columns.to_list()\n",
    "columns_no_target.remove('Machine failure')\n",
    "\n",
    "features = ai4i2020[columns_no_target]\n",
    "target = ai4i2020['Machine failure']\n",
    "\n",
    "#First split the Training/Validation and the Testing Set\n",
    "X_train_val, X_test_final, y_train_val, y_test_final = train_test_split(features, target, test_size=0.2, random_state=42)"
   ]
  },
  {
   "cell_type": "markdown",
   "metadata": {},
   "source": [
    "## Question 2.3: Apply [SMOTE](https://imbalanced-learn.org/stable/references/generated/imblearn.over_sampling.SMOTE.html) to the training data since there is class imbalance."
   ]
  },
  {
   "cell_type": "code",
   "execution_count": 15,
   "metadata": {},
   "outputs": [
    {
     "data": {
      "text/plain": [
       "0    7722\n",
       "1     278\n",
       "Name: Machine failure, dtype: int64"
      ]
     },
     "execution_count": 15,
     "metadata": {},
     "output_type": "execute_result"
    }
   ],
   "source": [
    "y_train_val.value_counts()"
   ]
  },
  {
   "cell_type": "markdown",
   "metadata": {},
   "source": [
    "It is possible to see there is a class imbalance"
   ]
  },
  {
   "cell_type": "code",
   "execution_count": 16,
   "metadata": {},
   "outputs": [
    {
     "data": {
      "text/plain": [
       "1    7722\n",
       "0    7722\n",
       "Name: Machine failure, dtype: int64"
      ]
     },
     "execution_count": 16,
     "metadata": {},
     "output_type": "execute_result"
    }
   ],
   "source": [
    "from imblearn.over_sampling import SMOTE\n",
    "\n",
    "sm = SMOTE(random_state=42)\n",
    "variables_res, label_res = sm.fit_resample(X_train_val, y_train_val)\n",
    "label_res.value_counts()"
   ]
  },
  {
   "cell_type": "code",
   "execution_count": 17,
   "metadata": {},
   "outputs": [],
   "source": [
    "#Then split the Training/Validation into the Training and the Validation set\n",
    "X_train, X_test, y_train, y_test = train_test_split(variables_res, label_res, test_size=0.2, random_state=42)"
   ]
  },
  {
   "cell_type": "markdown",
   "metadata": {},
   "source": [
    "## Question 3.1: Train five machine learning [LogisticRegression](https://scikit-learn.org/stable/modules/generated/sklearn.linear_model.LogisticRegression.html), [SVC](https://scikit-learn.org/stable/modules/generated/sklearn.svm.SVC.html), [KNeighborsClassifier](https://scikit-learn.org/stable/modules/generated/sklearn.neighbors.KNeighborsClassifier.html), [DecisionTreeClassifier](https://scikit-learn.org/stable/modules/generated/sklearn.tree.DecisionTreeClassifier.html), and [XGBClassifier](https://xgboost.readthedocs.io/en/latest/python/python_api.html#xgboost.XGBClassifier) based on the training data, and evaluate their performance on the test dataset. Use default hyperparameter values."
   ]
  },
  {
   "cell_type": "code",
   "execution_count": 18,
   "metadata": {},
   "outputs": [],
   "source": [
    "from sklearn.linear_model import LogisticRegression\n",
    "from sklearn.svm import SVC\n",
    "from sklearn.neighbors import KNeighborsClassifier\n",
    "from sklearn.tree import DecisionTreeClassifier\n",
    "#from xgboost.sklearn import XGBClassifier\n",
    "from sklearn.metrics import classification_report\n",
    "from sklearn.metrics import confusion_matrix\n",
    "from sklearn.ensemble import RandomForestClassifier\n",
    "import matplotlib.pyplot as plt"
   ]
  },
  {
   "cell_type": "code",
   "execution_count": 19,
   "metadata": {},
   "outputs": [],
   "source": [
    "from sklearn.metrics import *\n",
    "def ROM_plots(T,y):\n",
    "    # ROC analysis\n",
    "    LW = 2.0 # line width for plots\n",
    "    LL = \"lower right\" # legend location\n",
    "    LC = 'orange' # Line Color\n",
    "    fpr, tpr, th = roc_curve(T, y) # False Positive Rate, True Posisive Rate, probability thresholds\n",
    "    AUC = auc(fpr, tpr)\n",
    "    print (\"\\nTP rates:\", np.round(tpr, 2))\n",
    "    print (\"\\nFP rates:\", np.round(fpr, 2))\n",
    "    print (\"\\nProbability thresholds:\", np.round(th, 2))\n",
    "    plt.figure()\n",
    "    plt.title('Receiver Operating Characteristic curve')\n",
    "    plt.xlim([0.0, 1.0])\n",
    "    plt.ylim([0.0, 1.05])\n",
    "    plt.xlabel('FPT')\n",
    "    plt.ylabel('TPR')\n",
    "    plt.plot(fpr, tpr, color=LC,lw=LW, label='ROC curve (area = %0.2f)' % AUC)\n",
    "    plt.plot([0, 1], [0, 1], color='navy', lw=LW, linestyle='--') # reference line for random classifier\n",
    "    plt.legend(loc=LL)\n",
    "    plt.show()\n",
    "    print (\"\\nAUC score (using auc function):\", np.round(AUC, 2))\n",
    "    print (\"\\nAUC score (using roc_auc_score function):\", np.round(roc_auc_score(T, y), 2), \"\\n\")"
   ]
  },
  {
   "cell_type": "code",
   "execution_count": 20,
   "metadata": {},
   "outputs": [],
   "source": [
    "#Function to calculate performance parameters based on Predictions and Actual values from the testing group\n",
    "def perfomance_values(T,Y,header):\n",
    "    print(\" \")\n",
    "    print(\"#############Classifier: \" + header + \" #############\")\n",
    "    # Confusion Matrix\n",
    "    CM = confusion_matrix(T, Y)\n",
    "    print (\"\\n\\nConfusion matrix:\\n\", CM)\n",
    "    tn, fp, fn, tp = CM.ravel()\n",
    "    print (\"\\nTP, TN, FP, FN:\", tp, \",\", tn, \",\", fp, \",\", fn)\n",
    "    AR = accuracy_score(T, Y)\n",
    "    ER = 1.0 - AR\n",
    "    P = precision_score(T, Y)\n",
    "    R = recall_score(T, Y)\n",
    "    F1 = f1_score(T, Y)\n",
    "    print (\"\\nAccuracy:\", round(AR,4), \",Error Rate:\", round(ER,4), \",Precision:\", round(P,4), \",Recall:\", round(R,4), \",F1 Score:\",round(F1,4))\n",
    "    return AR, ER, P, R, F1\n",
    "\n",
    "#Function to make sure the output is a boolean as it is needed for the roc_curve\n",
    "def booleans(vector):\n",
    "    final = []\n",
    "    for i in vector:\n",
    "        if i == 1:\n",
    "            i = 0\n",
    "        else:\n",
    "            i = 1\n",
    "        final.append(i)\n",
    "    return final\n",
    "\n",
    "#Function to train the model and obtain the perfomance values from each model (in a plot form)\n",
    "def classifier_performance(V, header, X_train, X_test, y_train, y_test):\n",
    "    accuracy_rate = []\n",
    "    error_rate = []\n",
    "    precision = []\n",
    "    recall = []\n",
    "    f1_score = []\n",
    "    for i in range(len(header)):\n",
    "        V[i].fit(X_train, y_train)\n",
    "        #proba = V[i].predict_proba(X_test)[:,1]#Predictions and probabilities\n",
    "        prediction = V[i].predict(X_test)\n",
    "        #Creating a Data Frame for the Test, Prediction and Probaility Data\n",
    "        T = y_test.tolist()\n",
    "        Y = prediction.tolist()\n",
    "        #y = proba.tolist()\n",
    "        Y = booleans(Y)\n",
    "        T = booleans(T)\n",
    "        AR, ER, P, R, F1 = perfomance_values(T,Y,header[i])\n",
    "        accuracy_rate.append(AR)\n",
    "        error_rate.append(ER)\n",
    "        precision.append(P)\n",
    "        recall.append(R)\n",
    "        #f1_score.append(F1)\n",
    "        #ROM_plots(T,y)\n",
    "    \n",
    "    names = ['Accuracy Rate','Error Rate','Precision','Recall','F1 Score']\n",
    "    list_of_values = [accuracy_rate, error_rate, precision, recall, f1_score]\n",
    "    colors = ['indigo', 'tomato', 'dodgerblue', 'crimson', 'darkcyan']\n",
    "    \n",
    "    #Plots of each of the Performance Values for each of the Classifiers in this analysis\n",
    "    for i in range(len(names)):\n",
    "        plt.bar(header, list_of_values[i], color=colors[i])\n",
    "        plt.xticks(rotation=45)\n",
    "        plt.title(names[i])\n",
    "        plt.ylabel(\"Score\")\n",
    "        plt.show()"
   ]
  },
  {
   "cell_type": "markdown",
   "metadata": {},
   "source": [
    "## Question 3.1: Train five machine learning [LogisticRegression](https://scikit-learn.org/stable/modules/generated/sklearn.linear_model.LogisticRegression.html), [SVC](https://scikit-learn.org/stable/modules/generated/sklearn.svm.SVC.html), [KNeighborsClassifier](https://scikit-learn.org/stable/modules/generated/sklearn.neighbors.KNeighborsClassifier.html), [DecisionTreeClassifier](https://scikit-learn.org/stable/modules/generated/sklearn.tree.DecisionTreeClassifier.html), and [XGBClassifier](https://xgboost.readthedocs.io/en/latest/python/python_api.html#xgboost.XGBClassifier) based on the training data, and evaluate their performance on the test dataset. Use default hyperparameter values."
   ]
  },
  {
   "cell_type": "code",
   "execution_count": 21,
   "metadata": {},
   "outputs": [],
   "source": [
    "#Parameters for Classifiers\n",
    "k = 5 # number of neighbors\n",
    "distance_metric = 'euclidean'\n",
    "estimators = 10 # number of trees parameter\n",
    "mss = 2 # mininum samples split parameter\n",
    "\n",
    "#Classifiers\n",
    "knn = KNeighborsClassifier(n_neighbors=k, metric=distance_metric) #K Nearest Neighbors\n",
    "lrc = LogisticRegression() #Logistic Regression\n",
    "dtc = DecisionTreeClassifier() #DecisionTree\n",
    "rfc = RandomForestClassifier(n_estimators=estimators, min_samples_split=mss) #Random Forest\n",
    "svc = SVC(gamma='auto') #Support Vector Classification\n",
    "\n",
    "#List for Classifiers and Names\n",
    "header = [\"KNN\",\"Logistic_Regression\",\"Decision_Tree\",\"Random_Forest\",\"SVC\"]\n",
    "\n",
    "V = [knn,lrc,dtc,rfc,svc]"
   ]
  },
  {
   "cell_type": "code",
   "execution_count": 22,
   "metadata": {
    "scrolled": false
   },
   "outputs": [
    {
     "name": "stdout",
     "output_type": "stream",
     "text": [
      "\n",
      "\n",
      "#############\\Classifier: #############\n",
      " K_Nearest_Neighbors\n",
      "\n",
      "\n",
      "Confusion matrix:\n",
      " [[1491   30]\n",
      " [ 189 1379]]\n",
      "\n",
      "TP, TN, FP, FN: 1379 , 1491 , 30 , 189\n",
      "\n",
      "Accuracy: 0.9291 ,Error Rate: 0.0709 ,Precision: 0.9787 ,Recall: 0.8795 ,F1 Score: 0.9264\n",
      "\n",
      "\n",
      "#############\\Classifier: #############\n",
      " Logistic_Regression\n",
      "\n",
      "\n",
      "Confusion matrix:\n",
      " [[1287  234]\n",
      " [ 278 1290]]\n",
      "\n",
      "TP, TN, FP, FN: 1290 , 1287 , 234 , 278\n",
      "\n",
      "Accuracy: 0.8343 ,Error Rate: 0.1657 ,Precision: 0.8465 ,Recall: 0.8227 ,F1 Score: 0.8344\n",
      "\n",
      "\n",
      "#############\\Classifier: #############\n",
      " Decision_Tree\n",
      "\n",
      "\n",
      "Confusion matrix:\n",
      " [[1478   43]\n",
      " [  49 1519]]\n",
      "\n",
      "TP, TN, FP, FN: 1519 , 1478 , 43 , 49\n",
      "\n",
      "Accuracy: 0.9702 ,Error Rate: 0.0298 ,Precision: 0.9725 ,Recall: 0.9688 ,F1 Score: 0.9706\n",
      "\n",
      "\n",
      "#############\\Classifier: #############\n",
      " Random_Forest\n",
      "\n",
      "\n",
      "Confusion matrix:\n",
      " [[1506   15]\n",
      " [  39 1529]]\n",
      "\n",
      "TP, TN, FP, FN: 1529 , 1506 , 15 , 39\n",
      "\n",
      "Accuracy: 0.9825 ,Error Rate: 0.0175 ,Precision: 0.9903 ,Recall: 0.9751 ,F1 Score: 0.9826\n",
      "\n",
      "\n",
      "#############\\Classifier: #############\n",
      " Support_Vector\n",
      "\n",
      "\n",
      "Confusion matrix:\n",
      " [[1355  166]\n",
      " [  12 1556]]\n",
      "\n",
      "TP, TN, FP, FN: 1556 , 1355 , 166 , 12\n",
      "\n",
      "Accuracy: 0.9424 ,Error Rate: 0.0576 ,Precision: 0.9036 ,Recall: 0.9923 ,F1 Score: 0.9459\n"
     ]
    },
    {
     "data": {
      "image/png": "[encoded data removed]",
      "text/plain": [
       "<Figure size 432x288 with 1 Axes>"
      ]
     },
     "metadata": {
      "needs_background": "light"
     },
     "output_type": "display_data"
    },
    {
     "data": {
      "image/png": "[encoded data removed]",
      "text/plain": [
       "<Figure size 432x288 with 1 Axes>"
      ]
     },
     "metadata": {
      "needs_background": "light"
     },
     "output_type": "display_data"
    },
    {
     "data": {
      "image/png": "[encoded data removed]",
      "text/plain": [
       "<Figure size 432x288 with 1 Axes>"
      ]
     },
     "metadata": {
      "needs_background": "light"
     },
     "output_type": "display_data"
    },
    {
     "data": {
      "image/png": "[encoded data removed]",
      "text/plain": [
       "<Figure size 432x288 with 1 Axes>"
      ]
     },
     "metadata": {
      "needs_background": "light"
     },
     "output_type": "display_data"
    },
    {
     "ename": "ValueError",
     "evalue": "shape mismatch: objects cannot be broadcast to a single shape",
     "output_type": "error",
     "traceback": [
      "\u001b[1;31m---------------------------------------------------------------------------\u001b[0m",
      "\u001b[1;31mValueError\u001b[0m                                Traceback (most recent call last)",
      "\u001b[1;32m<ipython-input-22-9f5d122b3f43>\u001b[0m in \u001b[0;36m<module>\u001b[1;34m\u001b[0m\n\u001b[0;32m      1\u001b[0m \u001b[1;31m#Running and obtaining performance values from the Models listed above\u001b[0m\u001b[1;33m\u001b[0m\u001b[1;33m\u001b[0m\u001b[1;33m\u001b[0m\u001b[0m\n\u001b[1;32m----> 2\u001b[1;33m \u001b[0mclassifier_performance\u001b[0m\u001b[1;33m(\u001b[0m\u001b[0mV\u001b[0m\u001b[1;33m,\u001b[0m \u001b[0mheader\u001b[0m\u001b[1;33m,\u001b[0m \u001b[0mX_train\u001b[0m\u001b[1;33m,\u001b[0m \u001b[0mX_test\u001b[0m\u001b[1;33m,\u001b[0m \u001b[0my_train\u001b[0m\u001b[1;33m,\u001b[0m \u001b[0my_test\u001b[0m\u001b[1;33m)\u001b[0m\u001b[1;33m\u001b[0m\u001b[1;33m\u001b[0m\u001b[0m\n\u001b[0m",
      "\u001b[1;32m<ipython-input-20-094286516ddf>\u001b[0m in \u001b[0;36mclassifier_performance\u001b[1;34m(V, header, X_train, X_test, y_train, y_test)\u001b[0m\n\u001b[0;32m     57\u001b[0m     \u001b[1;31m#Plots of each of the Performance Values for each of the Classifiers in this analysis\u001b[0m\u001b[1;33m\u001b[0m\u001b[1;33m\u001b[0m\u001b[1;33m\u001b[0m\u001b[0m\n\u001b[0;32m     58\u001b[0m     \u001b[1;32mfor\u001b[0m \u001b[0mi\u001b[0m \u001b[1;32min\u001b[0m \u001b[0mrange\u001b[0m\u001b[1;33m(\u001b[0m\u001b[0mlen\u001b[0m\u001b[1;33m(\u001b[0m\u001b[0mnames\u001b[0m\u001b[1;33m)\u001b[0m\u001b[1;33m)\u001b[0m\u001b[1;33m:\u001b[0m\u001b[1;33m\u001b[0m\u001b[1;33m\u001b[0m\u001b[0m\n\u001b[1;32m---> 59\u001b[1;33m         \u001b[0mplt\u001b[0m\u001b[1;33m.\u001b[0m\u001b[0mbar\u001b[0m\u001b[1;33m(\u001b[0m\u001b[0mheader\u001b[0m\u001b[1;33m,\u001b[0m \u001b[0mlist_of_values\u001b[0m\u001b[1;33m[\u001b[0m\u001b[0mi\u001b[0m\u001b[1;33m]\u001b[0m\u001b[1;33m,\u001b[0m \u001b[0mcolor\u001b[0m\u001b[1;33m=\u001b[0m\u001b[0mcolors\u001b[0m\u001b[1;33m[\u001b[0m\u001b[0mi\u001b[0m\u001b[1;33m]\u001b[0m\u001b[1;33m)\u001b[0m\u001b[1;33m\u001b[0m\u001b[1;33m\u001b[0m\u001b[0m\n\u001b[0m\u001b[0;32m     60\u001b[0m         \u001b[0mplt\u001b[0m\u001b[1;33m.\u001b[0m\u001b[0mxticks\u001b[0m\u001b[1;33m(\u001b[0m\u001b[0mrotation\u001b[0m\u001b[1;33m=\u001b[0m\u001b[1;36m45\u001b[0m\u001b[1;33m)\u001b[0m\u001b[1;33m\u001b[0m\u001b[1;33m\u001b[0m\u001b[0m\n\u001b[0;32m     61\u001b[0m         \u001b[0mplt\u001b[0m\u001b[1;33m.\u001b[0m\u001b[0mtitle\u001b[0m\u001b[1;33m(\u001b[0m\u001b[0mnames\u001b[0m\u001b[1;33m[\u001b[0m\u001b[0mi\u001b[0m\u001b[1;33m]\u001b[0m\u001b[1;33m)\u001b[0m\u001b[1;33m\u001b[0m\u001b[1;33m\u001b[0m\u001b[0m\n",
      "\u001b[1;32m~\\AppData\\Local\\Continuum\\anaconda3\\lib\\site-packages\\matplotlib\\pyplot.py\u001b[0m in \u001b[0;36mbar\u001b[1;34m(x, height, width, bottom, align, data, **kwargs)\u001b[0m\n\u001b[0;32m   2432\u001b[0m     return gca().bar(\n\u001b[0;32m   2433\u001b[0m         \u001b[0mx\u001b[0m\u001b[1;33m,\u001b[0m \u001b[0mheight\u001b[0m\u001b[1;33m,\u001b[0m \u001b[0mwidth\u001b[0m\u001b[1;33m=\u001b[0m\u001b[0mwidth\u001b[0m\u001b[1;33m,\u001b[0m \u001b[0mbottom\u001b[0m\u001b[1;33m=\u001b[0m\u001b[0mbottom\u001b[0m\u001b[1;33m,\u001b[0m \u001b[0malign\u001b[0m\u001b[1;33m=\u001b[0m\u001b[0malign\u001b[0m\u001b[1;33m,\u001b[0m\u001b[1;33m\u001b[0m\u001b[1;33m\u001b[0m\u001b[0m\n\u001b[1;32m-> 2434\u001b[1;33m         **({\"data\": data} if data is not None else {}), **kwargs)\n\u001b[0m\u001b[0;32m   2435\u001b[0m \u001b[1;33m\u001b[0m\u001b[0m\n\u001b[0;32m   2436\u001b[0m \u001b[1;33m\u001b[0m\u001b[0m\n",
      "\u001b[1;32m~\\AppData\\Local\\Continuum\\anaconda3\\lib\\site-packages\\matplotlib\\__init__.py\u001b[0m in \u001b[0;36minner\u001b[1;34m(ax, data, *args, **kwargs)\u001b[0m\n\u001b[0;32m   1587\u001b[0m     \u001b[1;32mdef\u001b[0m \u001b[0minner\u001b[0m\u001b[1;33m(\u001b[0m\u001b[0max\u001b[0m\u001b[1;33m,\u001b[0m \u001b[1;33m*\u001b[0m\u001b[0margs\u001b[0m\u001b[1;33m,\u001b[0m \u001b[0mdata\u001b[0m\u001b[1;33m=\u001b[0m\u001b[1;32mNone\u001b[0m\u001b[1;33m,\u001b[0m \u001b[1;33m**\u001b[0m\u001b[0mkwargs\u001b[0m\u001b[1;33m)\u001b[0m\u001b[1;33m:\u001b[0m\u001b[1;33m\u001b[0m\u001b[1;33m\u001b[0m\u001b[0m\n\u001b[0;32m   1588\u001b[0m         \u001b[1;32mif\u001b[0m \u001b[0mdata\u001b[0m \u001b[1;32mis\u001b[0m \u001b[1;32mNone\u001b[0m\u001b[1;33m:\u001b[0m\u001b[1;33m\u001b[0m\u001b[1;33m\u001b[0m\u001b[0m\n\u001b[1;32m-> 1589\u001b[1;33m             \u001b[1;32mreturn\u001b[0m \u001b[0mfunc\u001b[0m\u001b[1;33m(\u001b[0m\u001b[0max\u001b[0m\u001b[1;33m,\u001b[0m \u001b[1;33m*\u001b[0m\u001b[0mmap\u001b[0m\u001b[1;33m(\u001b[0m\u001b[0msanitize_sequence\u001b[0m\u001b[1;33m,\u001b[0m \u001b[0margs\u001b[0m\u001b[1;33m)\u001b[0m\u001b[1;33m,\u001b[0m \u001b[1;33m**\u001b[0m\u001b[0mkwargs\u001b[0m\u001b[1;33m)\u001b[0m\u001b[1;33m\u001b[0m\u001b[1;33m\u001b[0m\u001b[0m\n\u001b[0m\u001b[0;32m   1590\u001b[0m \u001b[1;33m\u001b[0m\u001b[0m\n\u001b[0;32m   1591\u001b[0m         \u001b[0mbound\u001b[0m \u001b[1;33m=\u001b[0m \u001b[0mnew_sig\u001b[0m\u001b[1;33m.\u001b[0m\u001b[0mbind\u001b[0m\u001b[1;33m(\u001b[0m\u001b[0max\u001b[0m\u001b[1;33m,\u001b[0m \u001b[1;33m*\u001b[0m\u001b[0margs\u001b[0m\u001b[1;33m,\u001b[0m \u001b[1;33m**\u001b[0m\u001b[0mkwargs\u001b[0m\u001b[1;33m)\u001b[0m\u001b[1;33m\u001b[0m\u001b[1;33m\u001b[0m\u001b[0m\n",
      "\u001b[1;32m~\\AppData\\Local\\Continuum\\anaconda3\\lib\\site-packages\\matplotlib\\axes\\_axes.py\u001b[0m in \u001b[0;36mbar\u001b[1;34m(self, x, height, width, bottom, align, **kwargs)\u001b[0m\n\u001b[0;32m   2373\u001b[0m         x, height, width, y, linewidth = np.broadcast_arrays(\n\u001b[0;32m   2374\u001b[0m             \u001b[1;31m# Make args iterable too.\u001b[0m\u001b[1;33m\u001b[0m\u001b[1;33m\u001b[0m\u001b[1;33m\u001b[0m\u001b[0m\n\u001b[1;32m-> 2375\u001b[1;33m             np.atleast_1d(x), height, width, y, linewidth)\n\u001b[0m\u001b[0;32m   2376\u001b[0m \u001b[1;33m\u001b[0m\u001b[0m\n\u001b[0;32m   2377\u001b[0m         \u001b[1;31m# Now that units have been converted, set the tick locations.\u001b[0m\u001b[1;33m\u001b[0m\u001b[1;33m\u001b[0m\u001b[1;33m\u001b[0m\u001b[0m\n",
      "\u001b[1;32m<__array_function__ internals>\u001b[0m in \u001b[0;36mbroadcast_arrays\u001b[1;34m(*args, **kwargs)\u001b[0m\n",
      "\u001b[1;32m~\\AppData\\Local\\Continuum\\anaconda3\\lib\\site-packages\\numpy\\lib\\stride_tricks.py\u001b[0m in \u001b[0;36mbroadcast_arrays\u001b[1;34m(subok, *args)\u001b[0m\n\u001b[0;32m    256\u001b[0m     \u001b[0margs\u001b[0m \u001b[1;33m=\u001b[0m \u001b[1;33m[\u001b[0m\u001b[0mnp\u001b[0m\u001b[1;33m.\u001b[0m\u001b[0marray\u001b[0m\u001b[1;33m(\u001b[0m\u001b[0m_m\u001b[0m\u001b[1;33m,\u001b[0m \u001b[0mcopy\u001b[0m\u001b[1;33m=\u001b[0m\u001b[1;32mFalse\u001b[0m\u001b[1;33m,\u001b[0m \u001b[0msubok\u001b[0m\u001b[1;33m=\u001b[0m\u001b[0msubok\u001b[0m\u001b[1;33m)\u001b[0m \u001b[1;32mfor\u001b[0m \u001b[0m_m\u001b[0m \u001b[1;32min\u001b[0m \u001b[0margs\u001b[0m\u001b[1;33m]\u001b[0m\u001b[1;33m\u001b[0m\u001b[1;33m\u001b[0m\u001b[0m\n\u001b[0;32m    257\u001b[0m \u001b[1;33m\u001b[0m\u001b[0m\n\u001b[1;32m--> 258\u001b[1;33m     \u001b[0mshape\u001b[0m \u001b[1;33m=\u001b[0m \u001b[0m_broadcast_shape\u001b[0m\u001b[1;33m(\u001b[0m\u001b[1;33m*\u001b[0m\u001b[0margs\u001b[0m\u001b[1;33m)\u001b[0m\u001b[1;33m\u001b[0m\u001b[1;33m\u001b[0m\u001b[0m\n\u001b[0m\u001b[0;32m    259\u001b[0m \u001b[1;33m\u001b[0m\u001b[0m\n\u001b[0;32m    260\u001b[0m     \u001b[1;32mif\u001b[0m \u001b[0mall\u001b[0m\u001b[1;33m(\u001b[0m\u001b[0marray\u001b[0m\u001b[1;33m.\u001b[0m\u001b[0mshape\u001b[0m \u001b[1;33m==\u001b[0m \u001b[0mshape\u001b[0m \u001b[1;32mfor\u001b[0m \u001b[0marray\u001b[0m \u001b[1;32min\u001b[0m \u001b[0margs\u001b[0m\u001b[1;33m)\u001b[0m\u001b[1;33m:\u001b[0m\u001b[1;33m\u001b[0m\u001b[1;33m\u001b[0m\u001b[0m\n",
      "\u001b[1;32m~\\AppData\\Local\\Continuum\\anaconda3\\lib\\site-packages\\numpy\\lib\\stride_tricks.py\u001b[0m in \u001b[0;36m_broadcast_shape\u001b[1;34m(*args)\u001b[0m\n\u001b[0;32m    187\u001b[0m     \u001b[1;31m# use the old-iterator because np.nditer does not handle size 0 arrays\u001b[0m\u001b[1;33m\u001b[0m\u001b[1;33m\u001b[0m\u001b[1;33m\u001b[0m\u001b[0m\n\u001b[0;32m    188\u001b[0m     \u001b[1;31m# consistently\u001b[0m\u001b[1;33m\u001b[0m\u001b[1;33m\u001b[0m\u001b[1;33m\u001b[0m\u001b[0m\n\u001b[1;32m--> 189\u001b[1;33m     \u001b[0mb\u001b[0m \u001b[1;33m=\u001b[0m \u001b[0mnp\u001b[0m\u001b[1;33m.\u001b[0m\u001b[0mbroadcast\u001b[0m\u001b[1;33m(\u001b[0m\u001b[1;33m*\u001b[0m\u001b[0margs\u001b[0m\u001b[1;33m[\u001b[0m\u001b[1;33m:\u001b[0m\u001b[1;36m32\u001b[0m\u001b[1;33m]\u001b[0m\u001b[1;33m)\u001b[0m\u001b[1;33m\u001b[0m\u001b[1;33m\u001b[0m\u001b[0m\n\u001b[0m\u001b[0;32m    190\u001b[0m     \u001b[1;31m# unfortunately, it cannot handle 32 or more arguments directly\u001b[0m\u001b[1;33m\u001b[0m\u001b[1;33m\u001b[0m\u001b[1;33m\u001b[0m\u001b[0m\n\u001b[0;32m    191\u001b[0m     \u001b[1;32mfor\u001b[0m \u001b[0mpos\u001b[0m \u001b[1;32min\u001b[0m \u001b[0mrange\u001b[0m\u001b[1;33m(\u001b[0m\u001b[1;36m32\u001b[0m\u001b[1;33m,\u001b[0m \u001b[0mlen\u001b[0m\u001b[1;33m(\u001b[0m\u001b[0margs\u001b[0m\u001b[1;33m)\u001b[0m\u001b[1;33m,\u001b[0m \u001b[1;36m31\u001b[0m\u001b[1;33m)\u001b[0m\u001b[1;33m:\u001b[0m\u001b[1;33m\u001b[0m\u001b[1;33m\u001b[0m\u001b[0m\n",
      "\u001b[1;31mValueError\u001b[0m: shape mismatch: objects cannot be broadcast to a single shape"
     ]
    },
    {
     "data": {
      "image/png": "[encoded data removed]",
      "text/plain": [
       "<Figure size 432x288 with 1 Axes>"
      ]
     },
     "metadata": {
      "needs_background": "light"
     },
     "output_type": "display_data"
    }
   ],
   "source": [
    "#Running and obtaining performance values from the Models listed above\n",
    "classifier_performance(V, header, X_train, X_test, y_train, y_test)"
   ]
  },
  {
   "cell_type": "code",
   "execution_count": null,
   "metadata": {},
   "outputs": [],
   "source": [
    "# #Build models (You can either do it combined or separate)\n",
    "# models = {'Logistic Regresion': LogisticRegression(), 'Support Vector Machine': SVC(), 'K-NN': KNeighborsClassifier(), 'Decision Tree':DecisionTreeClassifier(),'XGBoost': XGBClassifier()}"
   ]
  },
  {
   "cell_type": "markdown",
   "metadata": {},
   "source": [
    "## Questions 3.2:  Perform recursive feature elimination (3 features) on the dataset using a logistic regression classifier with max_iter= 1000, random_state=5.  Any difference in the results? Explain."
   ]
  },
  {
   "cell_type": "code",
   "execution_count": 23,
   "metadata": {},
   "outputs": [
    {
     "name": "stderr",
     "output_type": "stream",
     "text": [
      "C:\\Users\\ly266e\\AppData\\Roaming\\Python\\Python37\\site-packages\\sklearn\\utils\\validation.py:72: FutureWarning: Pass n_features_to_select=3 as keyword args. From version 1.0 (renaming of 0.25) passing these as positional arguments will result in an error\n",
      "  \"will result in an error\", FutureWarning)\n"
     ]
    },
    {
     "name": "stdout",
     "output_type": "stream",
     "text": [
      "Accuracy: 0.5872450631272257\n",
      "AUC: 0.671841665660347\n"
     ]
    }
   ],
   "source": [
    "from sklearn.feature_selection import RFE\n",
    "\n",
    "# feature extraction\n",
    "model = LogisticRegression()\n",
    "rfe = RFE(model, 3)\n",
    "fit = rfe.fit(X_train, y_train)\n",
    "y_pred = rfe.predict(X_test)\n",
    "lr_acc = accuracy_score(y_test, y_pred)\n",
    "\n",
    "# calculate the fpr and tpr for all thresholds of the classification\n",
    "probs = rfe.predict_proba(X_test)\n",
    "preds = probs[:,1]\n",
    "fpr, tpr, threshold = metrics.roc_curve(y_test, preds)\n",
    "roc_auc = metrics.roc_auc_score(y_test, preds)\n",
    "print(\"Accuracy: {}\".format(lr_acc))\n",
    "print(\"AUC: {}\".format(roc_auc))"
   ]
  },
  {
   "cell_type": "code",
   "execution_count": 24,
   "metadata": {},
   "outputs": [
    {
     "data": {
      "image/png": "[encoded data removed]",
      "text/plain": [
       "<Figure size 432x288 with 1 Axes>"
      ]
     },
     "metadata": {
      "needs_background": "light"
     },
     "output_type": "display_data"
    }
   ],
   "source": [
    "# Plot the ROC curve\n",
    "plt.title('Receiver Operating Characteristic')\n",
    "plt.plot(fpr, tpr, 'b', label = 'AUC = %0.2f' % roc_auc)\n",
    "plt.legend(loc = 'lower right')\n",
    "plt.plot([0, 1], [0, 1],'r--')\n",
    "plt.xlim([0, 1])\n",
    "plt.ylim([0, 1])\n",
    "plt.ylabel('True Positive Rate')\n",
    "plt.xlabel('False Positive Rate')\n",
    "plt.show()"
   ]
  },
  {
   "cell_type": "markdown",
   "metadata": {},
   "source": [
    "## Q.4. Create a new text cell in your Notebook: Complete a 50-100 word summary (or short description of your thinking in applying this week's learning to the solution) of your experience in this assignment. Include:\n",
    "What was your incoming experience with this model, if any? what steps you took, what obstacles you encountered. how you link this exercise to real-world, machine learning problem-solving. (What steps were missing? What else do you need to learn?) This summary allows your instructor to know how you are doing and allot points for your effort in thinking and planning, and making connections to real-world work. "
   ]
  },
  {
   "cell_type": "code",
   "execution_count": null,
   "metadata": {},
   "outputs": [],
   "source": []
  }
 ],
 "metadata": {
  "kernelspec": {
   "display_name": "Python 3",
   "language": "python",
   "name": "python3"
  },
  "language_info": {
   "codemirror_mode": {
    "name": "ipython",
    "version": 3
   },
   "file_extension": ".py",
   "mimetype": "text/x-python",
   "name": "python",
   "nbconvert_exporter": "python",
   "pygments_lexer": "ipython3",
   "version": "3.7.3"
  }
 },
 "nbformat": 4,
 "nbformat_minor": 5
}
