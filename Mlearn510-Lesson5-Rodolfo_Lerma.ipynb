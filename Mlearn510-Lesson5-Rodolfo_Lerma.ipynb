{
 "cells": [
  {
   "cell_type": "markdown",
   "id": "17e7da2d",
   "metadata": {},
   "source": [
    "# Predictive Maintenance \n",
    "\n",
    "### Student: Rodolfo Lerma"
   ]
  },
  {
   "cell_type": "markdown",
   "id": "a4569206",
   "metadata": {},
   "source": [
    "This assignment covers the topic of predictive maintenance. Predictive Maintenance problems adress predicting when a machine needs to be maintained ahead of breaking down. This problem can occur anywhere regular maintenance is required for a machine. For example, it can be used in manufacturing, fleet operations, train maintenance, etc."
   ]
  },
  {
   "cell_type": "markdown",
   "id": "04efbaef",
   "metadata": {},
   "source": [
    "This assignment will use the [Predictive Maintenance Dataset](https://archive.ics.uci.edu/ml/datasets/AI4I+2020+Predictive+Maintenance+Dataset). The dataset consists of 10 000 data points stored as rows with 14 features in columns. The 'machine failure' label that indicates, whether the machine has failed in this particular datapoint."
   ]
  },
  {
   "cell_type": "markdown",
   "id": "682a89fc",
   "metadata": {},
   "source": [
    "# Learning Objectives\n",
    "- Perform model tuning based on hyper parameters.\n",
    "- Select the best model after attempting multiple models.\n",
    "- Perform recursive feature elimination, producing a statistically significant improvement over a model without feature selection."
   ]
  },
  {
   "cell_type": "code",
   "execution_count": 1,
   "id": "c29cbb9e",
   "metadata": {},
   "outputs": [
    {
     "name": "stdout",
     "output_type": "stream",
     "text": [
      "<class 'pandas.core.frame.DataFrame'>\n",
      "RangeIndex: 10000 entries, 0 to 9999\n",
      "Data columns (total 9 columns):\n",
      " #   Column                   Non-Null Count  Dtype  \n",
      "---  ------                   --------------  -----  \n",
      " 0   UDI                      10000 non-null  int64  \n",
      " 1   Product ID               10000 non-null  object \n",
      " 2   Type                     10000 non-null  object \n",
      " 3   Air temperature [K]      10000 non-null  object \n",
      " 4   Process temperature [K]  10000 non-null  object \n",
      " 5   Rotational speed [rpm]   10000 non-null  int64  \n",
      " 6   Torque [Nm]              10000 non-null  float64\n",
      " 7   Tool wear [min]          10000 non-null  int64  \n",
      " 8   Machine failure          10000 non-null  int64  \n",
      "dtypes: float64(1), int64(4), object(4)\n",
      "memory usage: 703.2+ KB\n",
      "None\n"
     ]
    }
   ],
   "source": [
    "import pandas as pd\n",
    "import numpy as np\n",
    "from sklearn import preprocessing, metrics\n",
    "import matplotlib.pyplot as plt\n",
    "from sklearn.model_selection import train_test_split\n",
    "\n",
    "ai4i2020 = pd.read_csv('ai4i2020.csv')\n",
    "print(ai4i2020.info())"
   ]
  },
  {
   "cell_type": "code",
   "execution_count": 2,
   "id": "68de3c60",
   "metadata": {},
   "outputs": [
    {
     "data": {
      "text/html": [
       "<div>\n",
       "<style scoped>\n",
       "    .dataframe tbody tr th:only-of-type {\n",
       "        vertical-align: middle;\n",
       "    }\n",
       "\n",
       "    .dataframe tbody tr th {\n",
       "        vertical-align: top;\n",
       "    }\n",
       "\n",
       "    .dataframe thead th {\n",
       "        text-align: right;\n",
       "    }\n",
       "</style>\n",
       "<table border=\"1\" class=\"dataframe\">\n",
       "  <thead>\n",
       "    <tr style=\"text-align: right;\">\n",
       "      <th></th>\n",
       "      <th>UDI</th>\n",
       "      <th>Product ID</th>\n",
       "      <th>Type</th>\n",
       "      <th>Air temperature [K]</th>\n",
       "      <th>Process temperature [K]</th>\n",
       "      <th>Rotational speed [rpm]</th>\n",
       "      <th>Torque [Nm]</th>\n",
       "      <th>Tool wear [min]</th>\n",
       "      <th>Machine failure</th>\n",
       "    </tr>\n",
       "  </thead>\n",
       "  <tbody>\n",
       "    <tr>\n",
       "      <th>0</th>\n",
       "      <td>1</td>\n",
       "      <td>M14860</td>\n",
       "      <td>M</td>\n",
       "      <td>298.1</td>\n",
       "      <td>308.6</td>\n",
       "      <td>1551</td>\n",
       "      <td>42.8</td>\n",
       "      <td>0</td>\n",
       "      <td>0</td>\n",
       "    </tr>\n",
       "    <tr>\n",
       "      <th>1</th>\n",
       "      <td>2</td>\n",
       "      <td>L47181</td>\n",
       "      <td>L</td>\n",
       "      <td>298.2</td>\n",
       "      <td>308.7</td>\n",
       "      <td>1408</td>\n",
       "      <td>46.3</td>\n",
       "      <td>3</td>\n",
       "      <td>0</td>\n",
       "    </tr>\n",
       "    <tr>\n",
       "      <th>2</th>\n",
       "      <td>3</td>\n",
       "      <td>L47182</td>\n",
       "      <td>L</td>\n",
       "      <td>298.1</td>\n",
       "      <td>308.5</td>\n",
       "      <td>1498</td>\n",
       "      <td>49.4</td>\n",
       "      <td>5</td>\n",
       "      <td>0</td>\n",
       "    </tr>\n",
       "    <tr>\n",
       "      <th>3</th>\n",
       "      <td>4</td>\n",
       "      <td>L47183</td>\n",
       "      <td>L</td>\n",
       "      <td>298.2</td>\n",
       "      <td>308.6</td>\n",
       "      <td>1433</td>\n",
       "      <td>39.5</td>\n",
       "      <td>7</td>\n",
       "      <td>0</td>\n",
       "    </tr>\n",
       "    <tr>\n",
       "      <th>4</th>\n",
       "      <td>5</td>\n",
       "      <td>L47184</td>\n",
       "      <td>L</td>\n",
       "      <td>298.2</td>\n",
       "      <td>308.7</td>\n",
       "      <td>1408</td>\n",
       "      <td>40.0</td>\n",
       "      <td>9</td>\n",
       "      <td>0</td>\n",
       "    </tr>\n",
       "    <tr>\n",
       "      <th>5</th>\n",
       "      <td>6</td>\n",
       "      <td>M14865</td>\n",
       "      <td>M</td>\n",
       "      <td>298.1</td>\n",
       "      <td>308.6</td>\n",
       "      <td>1425</td>\n",
       "      <td>41.9</td>\n",
       "      <td>11</td>\n",
       "      <td>0</td>\n",
       "    </tr>\n",
       "    <tr>\n",
       "      <th>6</th>\n",
       "      <td>7</td>\n",
       "      <td>L47186</td>\n",
       "      <td>L</td>\n",
       "      <td>298.1</td>\n",
       "      <td>308.6</td>\n",
       "      <td>1558</td>\n",
       "      <td>42.4</td>\n",
       "      <td>14</td>\n",
       "      <td>0</td>\n",
       "    </tr>\n",
       "    <tr>\n",
       "      <th>7</th>\n",
       "      <td>8</td>\n",
       "      <td>L47187</td>\n",
       "      <td>L</td>\n",
       "      <td>298.1</td>\n",
       "      <td>308.6</td>\n",
       "      <td>1527</td>\n",
       "      <td>40.2</td>\n",
       "      <td>16</td>\n",
       "      <td>0</td>\n",
       "    </tr>\n",
       "    <tr>\n",
       "      <th>8</th>\n",
       "      <td>9</td>\n",
       "      <td>M14868</td>\n",
       "      <td>M</td>\n",
       "      <td>298.3</td>\n",
       "      <td>308.7</td>\n",
       "      <td>1667</td>\n",
       "      <td>28.6</td>\n",
       "      <td>18</td>\n",
       "      <td>0</td>\n",
       "    </tr>\n",
       "    <tr>\n",
       "      <th>9</th>\n",
       "      <td>10</td>\n",
       "      <td>M14869</td>\n",
       "      <td>M</td>\n",
       "      <td>298.5</td>\n",
       "      <td>309</td>\n",
       "      <td>1741</td>\n",
       "      <td>28.0</td>\n",
       "      <td>21</td>\n",
       "      <td>0</td>\n",
       "    </tr>\n",
       "  </tbody>\n",
       "</table>\n",
       "</div>"
      ],
      "text/plain": [
       "   UDI Product ID Type Air temperature [K] Process temperature [K]  \\\n",
       "0    1     M14860    M               298.1                   308.6   \n",
       "1    2     L47181    L               298.2                   308.7   \n",
       "2    3     L47182    L               298.1                   308.5   \n",
       "3    4     L47183    L               298.2                   308.6   \n",
       "4    5     L47184    L               298.2                   308.7   \n",
       "5    6     M14865    M               298.1                   308.6   \n",
       "6    7     L47186    L               298.1                   308.6   \n",
       "7    8     L47187    L               298.1                   308.6   \n",
       "8    9     M14868    M               298.3                   308.7   \n",
       "9   10     M14869    M               298.5                     309   \n",
       "\n",
       "   Rotational speed [rpm]  Torque [Nm]  Tool wear [min]  Machine failure  \n",
       "0                    1551         42.8                0                0  \n",
       "1                    1408         46.3                3                0  \n",
       "2                    1498         49.4                5                0  \n",
       "3                    1433         39.5                7                0  \n",
       "4                    1408         40.0                9                0  \n",
       "5                    1425         41.9               11                0  \n",
       "6                    1558         42.4               14                0  \n",
       "7                    1527         40.2               16                0  \n",
       "8                    1667         28.6               18                0  \n",
       "9                    1741         28.0               21                0  "
      ]
     },
     "execution_count": 2,
     "metadata": {},
     "output_type": "execute_result"
    }
   ],
   "source": [
    "ai4i2020.head(10)"
   ]
  },
  {
   "cell_type": "code",
   "execution_count": 3,
   "id": "16391677",
   "metadata": {},
   "outputs": [
    {
     "data": {
      "text/plain": [
       "(10000, 9)"
      ]
     },
     "execution_count": 3,
     "metadata": {},
     "output_type": "execute_result"
    }
   ],
   "source": [
    "ai4i2020.shape"
   ]
  },
  {
   "cell_type": "markdown",
   "id": "e689d44b",
   "metadata": {},
   "source": [
    "As mentioned before it is possible to see that the Dataset contains 9 columns with 10,000 data points."
   ]
  },
  {
   "cell_type": "code",
   "execution_count": 4,
   "id": "f4501782",
   "metadata": {},
   "outputs": [
    {
     "data": {
      "text/plain": [
       "UDI                          int64\n",
       "Product ID                  object\n",
       "Type                        object\n",
       "Air temperature [K]         object\n",
       "Process temperature [K]     object\n",
       "Rotational speed [rpm]       int64\n",
       "Torque [Nm]                float64\n",
       "Tool wear [min]              int64\n",
       "Machine failure              int64\n",
       "dtype: object"
      ]
     },
     "execution_count": 4,
     "metadata": {},
     "output_type": "execute_result"
    }
   ],
   "source": [
    "ai4i2020.dtypes"
   ]
  },
  {
   "cell_type": "markdown",
   "id": "326cc784",
   "metadata": {},
   "source": [
    "By looking at the data types, there are some that are suspected of having missing data points as they should be `integers` but are marked as `object`."
   ]
  },
  {
   "cell_type": "markdown",
   "id": "2179d897",
   "metadata": {},
   "source": [
    "## Question 1.1:  Write a command that will calculate the number of unique values for each feature in the training data."
   ]
  },
  {
   "cell_type": "code",
   "execution_count": 5,
   "id": "f709599c",
   "metadata": {
    "scrolled": false
   },
   "outputs": [
    {
     "name": "stdout",
     "output_type": "stream",
     "text": [
      " \n",
      "****************\n",
      " \n",
      "L    6000\n",
      "M    2997\n",
      "H    1003\n",
      "Name: Type, dtype: int64\n",
      " \n",
      "****************\n",
      " \n",
      "300.7    279\n",
      "298.9    231\n",
      "297.4    230\n",
      "300.5    229\n",
      "298.8    227\n",
      "        ... \n",
      "304.4      7\n",
      "296        6\n",
      "295.4      3\n",
      "295.3      3\n",
      "304.5      1\n",
      "Name: Air temperature [K], Length: 93, dtype: int64\n",
      " \n",
      "****************\n",
      " \n",
      "310.6    317\n",
      "310.8    273\n",
      "310.7    266\n",
      "308.6    265\n",
      "310.5    263\n",
      "        ... \n",
      "306.8      4\n",
      "306.9      4\n",
      "305.8      3\n",
      "305.7      2\n",
      "313.8      2\n",
      "Name: Process temperature [K], Length: 82, dtype: int64\n",
      " \n",
      "****************\n",
      " \n",
      "1452    48\n",
      "1435    43\n",
      "1447    42\n",
      "1469    40\n",
      "1479    40\n",
      "        ..\n",
      "2165     1\n",
      "2133     1\n",
      "2117     1\n",
      "2109     1\n",
      "2047     1\n",
      "Name: Rotational speed [rpm], Length: 941, dtype: int64\n",
      " \n",
      "****************\n",
      " \n",
      "40.2    52\n",
      "42.4    50\n",
      "35.8    50\n",
      "38.5    50\n",
      "37.7    49\n",
      "        ..\n",
      "67.8     1\n",
      "14.3     1\n",
      "9.8      1\n",
      "8.0      1\n",
      "68.5     1\n",
      "Name: Torque [Nm], Length: 577, dtype: int64\n",
      " \n",
      "****************\n",
      " \n",
      "0      120\n",
      "2       69\n",
      "5       63\n",
      "59      58\n",
      "7       58\n",
      "      ... \n",
      "236      1\n",
      "237      1\n",
      "253      1\n",
      "251      1\n",
      "239      1\n",
      "Name: Tool wear [min], Length: 246, dtype: int64\n",
      " \n",
      "****************\n",
      " \n",
      "0    9661\n",
      "1     339\n",
      "Name: Machine failure, dtype: int64\n"
     ]
    }
   ],
   "source": [
    "columns_names = ai4i2020.columns.to_list()\n",
    "updated_columns = columns_names.copy()\n",
    "updated_columns.remove(\"UDI\")\n",
    "updated_columns.remove(\"Product ID\")\n",
    "\n",
    "for i in updated_columns:\n",
    "    unique_values = ai4i2020[i].value_counts(dropna=False)\n",
    "    print(' ')\n",
    "    print('****************')\n",
    "    print(' ')\n",
    "    print(unique_values)"
   ]
  },
  {
   "cell_type": "code",
   "execution_count": 6,
   "id": "25391ce0",
   "metadata": {},
   "outputs": [
    {
     "name": "stdout",
     "output_type": "stream",
     "text": [
      "Number of Unique Values per Column\n",
      " \n",
      "UDI\n",
      "10000\n",
      " \n",
      "************\n",
      "Product ID\n",
      "10000\n",
      " \n",
      "************\n",
      "Type\n",
      "3\n",
      " \n",
      "************\n",
      "Air temperature [K]\n",
      "93\n",
      " \n",
      "************\n",
      "Process temperature [K]\n",
      "82\n",
      " \n",
      "************\n",
      "Rotational speed [rpm]\n",
      "941\n",
      " \n",
      "************\n",
      "Torque [Nm]\n",
      "577\n",
      " \n",
      "************\n",
      "Tool wear [min]\n",
      "246\n",
      " \n",
      "************\n",
      "Machine failure\n",
      "2\n",
      " \n",
      "************\n"
     ]
    }
   ],
   "source": [
    "print('Number of Unique Values per Column')\n",
    "print(' ')\n",
    "for i in columns_names:\n",
    "    unique = ai4i2020[i].nunique()\n",
    "    print(i)\n",
    "    print(unique)\n",
    "    print(' ')\n",
    "    print('************')"
   ]
  },
  {
   "cell_type": "markdown",
   "id": "624d41ec",
   "metadata": {},
   "source": [
    "By looking at the number of unique values, one can notice that `UDI` & `Product ID` are not useful for the analysis as there are different/unique for each of the rows in the data set."
   ]
  },
  {
   "cell_type": "markdown",
   "id": "230f8ec1",
   "metadata": {},
   "source": [
    "## Question 1.2: Determine if the data contains any missing values, and replace the values with np.nan. Missing values would be '?'."
   ]
  },
  {
   "cell_type": "code",
   "execution_count": 7,
   "id": "d504c427",
   "metadata": {},
   "outputs": [],
   "source": [
    "ai4i2020.replace('?', np.nan, inplace=True)"
   ]
  },
  {
   "cell_type": "code",
   "execution_count": 8,
   "id": "8f4603f0",
   "metadata": {},
   "outputs": [
    {
     "name": "stdout",
     "output_type": "stream",
     "text": [
      "Missing Values per Column\n"
     ]
    },
    {
     "data": {
      "text/plain": [
       "UDI                          0\n",
       "Product ID                   0\n",
       "Type                         0\n",
       "Air temperature [K]        140\n",
       "Process temperature [K]    183\n",
       "Rotational speed [rpm]       0\n",
       "Torque [Nm]                  0\n",
       "Tool wear [min]              0\n",
       "Machine failure              0\n",
       "dtype: int64"
      ]
     },
     "execution_count": 8,
     "metadata": {},
     "output_type": "execute_result"
    }
   ],
   "source": [
    "print('Missing Values per Column')\n",
    "ai4i2020.isnull().sum() #checking the dataset for NaN values .... NaN values in two columns"
   ]
  },
  {
   "cell_type": "markdown",
   "id": "78fa85e7",
   "metadata": {},
   "source": [
    "## Question 1.3: Replace all missing values with the mean. Change column types to numeric."
   ]
  },
  {
   "cell_type": "code",
   "execution_count": 9,
   "id": "176b54f7",
   "metadata": {},
   "outputs": [],
   "source": [
    "#replace missing values with their mode\n",
    "import statistics as st\n",
    "sample_columns = ['Air temperature [K]','Process temperature [K]']\n",
    "for i in sample_columns:\n",
    "    ai4i2020[i] = pd.to_numeric(ai4i2020[i])\n",
    "    ai4i2020[i].fillna(np.mean(ai4i2020[i]), inplace=True)"
   ]
  },
  {
   "cell_type": "markdown",
   "id": "a6197089",
   "metadata": {},
   "source": [
    "## Question 1.4: Drop UDI and 'Product ID' from the data"
   ]
  },
  {
   "cell_type": "code",
   "execution_count": 10,
   "id": "06d13c14",
   "metadata": {},
   "outputs": [
    {
     "data": {
      "text/html": [
       "<div>\n",
       "<style scoped>\n",
       "    .dataframe tbody tr th:only-of-type {\n",
       "        vertical-align: middle;\n",
       "    }\n",
       "\n",
       "    .dataframe tbody tr th {\n",
       "        vertical-align: top;\n",
       "    }\n",
       "\n",
       "    .dataframe thead th {\n",
       "        text-align: right;\n",
       "    }\n",
       "</style>\n",
       "<table border=\"1\" class=\"dataframe\">\n",
       "  <thead>\n",
       "    <tr style=\"text-align: right;\">\n",
       "      <th></th>\n",
       "      <th>Type</th>\n",
       "      <th>Air temperature [K]</th>\n",
       "      <th>Process temperature [K]</th>\n",
       "      <th>Rotational speed [rpm]</th>\n",
       "      <th>Torque [Nm]</th>\n",
       "      <th>Tool wear [min]</th>\n",
       "      <th>Machine failure</th>\n",
       "    </tr>\n",
       "  </thead>\n",
       "  <tbody>\n",
       "    <tr>\n",
       "      <th>0</th>\n",
       "      <td>M</td>\n",
       "      <td>298.1</td>\n",
       "      <td>308.6</td>\n",
       "      <td>1551</td>\n",
       "      <td>42.8</td>\n",
       "      <td>0</td>\n",
       "      <td>0</td>\n",
       "    </tr>\n",
       "    <tr>\n",
       "      <th>1</th>\n",
       "      <td>L</td>\n",
       "      <td>298.2</td>\n",
       "      <td>308.7</td>\n",
       "      <td>1408</td>\n",
       "      <td>46.3</td>\n",
       "      <td>3</td>\n",
       "      <td>0</td>\n",
       "    </tr>\n",
       "    <tr>\n",
       "      <th>2</th>\n",
       "      <td>L</td>\n",
       "      <td>298.1</td>\n",
       "      <td>308.5</td>\n",
       "      <td>1498</td>\n",
       "      <td>49.4</td>\n",
       "      <td>5</td>\n",
       "      <td>0</td>\n",
       "    </tr>\n",
       "    <tr>\n",
       "      <th>3</th>\n",
       "      <td>L</td>\n",
       "      <td>298.2</td>\n",
       "      <td>308.6</td>\n",
       "      <td>1433</td>\n",
       "      <td>39.5</td>\n",
       "      <td>7</td>\n",
       "      <td>0</td>\n",
       "    </tr>\n",
       "    <tr>\n",
       "      <th>4</th>\n",
       "      <td>L</td>\n",
       "      <td>298.2</td>\n",
       "      <td>308.7</td>\n",
       "      <td>1408</td>\n",
       "      <td>40.0</td>\n",
       "      <td>9</td>\n",
       "      <td>0</td>\n",
       "    </tr>\n",
       "  </tbody>\n",
       "</table>\n",
       "</div>"
      ],
      "text/plain": [
       "  Type  Air temperature [K]  Process temperature [K]  Rotational speed [rpm]  \\\n",
       "0    M                298.1                    308.6                    1551   \n",
       "1    L                298.2                    308.7                    1408   \n",
       "2    L                298.1                    308.5                    1498   \n",
       "3    L                298.2                    308.6                    1433   \n",
       "4    L                298.2                    308.7                    1408   \n",
       "\n",
       "   Torque [Nm]  Tool wear [min]  Machine failure  \n",
       "0         42.8                0                0  \n",
       "1         46.3                3                0  \n",
       "2         49.4                5                0  \n",
       "3         39.5                7                0  \n",
       "4         40.0                9                0  "
      ]
     },
     "execution_count": 10,
     "metadata": {},
     "output_type": "execute_result"
    }
   ],
   "source": [
    "ai4i2020.drop(columns=['UDI', 'Product ID'], inplace=True)\n",
    "ai4i2020.head()"
   ]
  },
  {
   "cell_type": "markdown",
   "id": "081e336f",
   "metadata": {},
   "source": [
    "## Data Exploration"
   ]
  },
  {
   "cell_type": "code",
   "execution_count": 11,
   "id": "eecafcd5",
   "metadata": {
    "scrolled": false
   },
   "outputs": [
    {
     "data": {
      "image/png": "[encoded data removed]",
      "text/plain": [
       "<Figure size 360x216 with 1 Axes>"
      ]
     },
     "metadata": {
      "needs_background": "light"
     },
     "output_type": "display_data"
    },
    {
     "data": {
      "image/png": "[encoded data removed]",
      "text/plain": [
       "<Figure size 360x216 with 1 Axes>"
      ]
     },
     "metadata": {
      "needs_background": "light"
     },
     "output_type": "display_data"
    },
    {
     "data": {
      "image/png": "[encoded data removed]",
      "text/plain": [
       "<Figure size 360x216 with 1 Axes>"
      ]
     },
     "metadata": {
      "needs_background": "light"
     },
     "output_type": "display_data"
    },
    {
     "data": {
      "image/png": "[encoded data removed]",
      "text/plain": [
       "<Figure size 360x216 with 1 Axes>"
      ]
     },
     "metadata": {
      "needs_background": "light"
     },
     "output_type": "display_data"
    },
    {
     "data": {
      "image/png": "[encoded data removed]",
      "text/plain": [
       "<Figure size 360x216 with 1 Axes>"
      ]
     },
     "metadata": {
      "needs_background": "light"
     },
     "output_type": "display_data"
    },
    {
     "data": {
      "image/png": "[encoded data removed]",
      "text/plain": [
       "<Figure size 360x216 with 1 Axes>"
      ]
     },
     "metadata": {
      "needs_background": "light"
     },
     "output_type": "display_data"
    },
    {
     "data": {
      "image/png": "[encoded data removed]",
      "text/plain": [
       "<Figure size 360x216 with 1 Axes>"
      ]
     },
     "metadata": {
      "needs_background": "light"
     },
     "output_type": "display_data"
    }
   ],
   "source": [
    "def hist_plot(df,a):\n",
    "    df[a].hist(figsize = (5,3))\n",
    "    plt.xlabel(a, fontsize = 15)\n",
    "    plt.ylabel('Frequency',fontsize = 15)\n",
    "    plt.tick_params(axis=\"x\", labelsize=10)\n",
    "    plt.tick_params(axis=\"y\", labelsize=10)\n",
    "    plt.grid(True)\n",
    "    plt.show()\n",
    "\n",
    "numeric = ai4i2020.columns.to_list()    \n",
    "for i in numeric:\n",
    "    hist_plot(ai4i2020, i)"
   ]
  },
  {
   "cell_type": "code",
   "execution_count": 12,
   "id": "aea728c9",
   "metadata": {},
   "outputs": [
    {
     "data": {
      "image/png": "[encoded data removed]",
      "text/plain": [
       "<Figure size 864x864 with 2 Axes>"
      ]
     },
     "metadata": {
      "needs_background": "light"
     },
     "output_type": "display_data"
    }
   ],
   "source": [
    "numeric.remove('Type')\n",
    "correlations = ai4i2020.corr()\n",
    "fig = plt.figure(figsize = (12,12))\n",
    "ax = fig.add_subplot(111)\n",
    "cax = ax.matshow(correlations, vmin=-1, vmax=1)\n",
    "fig.colorbar(cax)\n",
    "ticks = np.arange(0,6,1)\n",
    "ax.set_xticks(ticks)\n",
    "ax.set_yticks(ticks)\n",
    "ax.set_xticklabels(numeric, fontsize = 15, rotation=90)\n",
    "ax.set_yticklabels(numeric, fontsize = 15)\n",
    "plt.show()"
   ]
  },
  {
   "cell_type": "markdown",
   "id": "e816853a",
   "metadata": {},
   "source": [
    "There are some internal correlations that are interesting such as:\n",
    "`Torque` Vs `Rotational speed`.\n",
    "\n",
    "But also it is possible to see that most of the values individually are not highly correlated to the target variable (`Machine failure`)."
   ]
  },
  {
   "cell_type": "markdown",
   "id": "6cf58cb2",
   "metadata": {},
   "source": [
    "## Question 2.2: Apply [One-Hot Encoding](https://scikit-learn.org/stable/modules/generated/sklearn.preprocessing.OneHotEncoder.html) to data. Make sure to Fit the training data and transform both training and test data. "
   ]
  },
  {
   "cell_type": "code",
   "execution_count": 13,
   "id": "35749a3d",
   "metadata": {},
   "outputs": [],
   "source": [
    "from sklearn.preprocessing import OneHotEncoder\n",
    "\n",
    "hot_encoder = OneHotEncoder(sparse=False)\n",
    "x = ai4i2020['Type'].values.reshape(-1, 1)\n",
    "ai4i2020_hot = hot_encoder.fit_transform(x)\n",
    "\n",
    "#The names of the values/categories\n",
    "column_names = hot_encoder.categories_"
   ]
  },
  {
   "cell_type": "code",
   "execution_count": 14,
   "id": "da2ae064",
   "metadata": {},
   "outputs": [],
   "source": [
    "for i in range(3):\n",
    "    ai4i2020[column_names[0][i]] = ai4i2020_hot[:,i].tolist()"
   ]
  },
  {
   "cell_type": "code",
   "execution_count": 15,
   "id": "15ce0ad1",
   "metadata": {},
   "outputs": [],
   "source": [
    "ai4i2020.drop(columns=['Type'], inplace = True)"
   ]
  },
  {
   "cell_type": "code",
   "execution_count": 16,
   "id": "b7e65418",
   "metadata": {},
   "outputs": [],
   "source": [
    "# Transformation perform to ensure the data format for the XGBClassifier\n",
    "import re\n",
    "regex = re.compile(r\"\\[|\\]|<\", re.IGNORECASE)\n",
    "ai4i2020.columns = [regex.sub(\"_\", col) if any(x in str(col) for x in set(('[', ']', '<'))) else col for col in ai4i2020.columns.values]"
   ]
  },
  {
   "cell_type": "code",
   "execution_count": 17,
   "id": "ab69900b",
   "metadata": {},
   "outputs": [
    {
     "data": {
      "text/html": [
       "<div>\n",
       "<style scoped>\n",
       "    .dataframe tbody tr th:only-of-type {\n",
       "        vertical-align: middle;\n",
       "    }\n",
       "\n",
       "    .dataframe tbody tr th {\n",
       "        vertical-align: top;\n",
       "    }\n",
       "\n",
       "    .dataframe thead th {\n",
       "        text-align: right;\n",
       "    }\n",
       "</style>\n",
       "<table border=\"1\" class=\"dataframe\">\n",
       "  <thead>\n",
       "    <tr style=\"text-align: right;\">\n",
       "      <th></th>\n",
       "      <th>Air temperature _K_</th>\n",
       "      <th>Process temperature _K_</th>\n",
       "      <th>Rotational speed _rpm_</th>\n",
       "      <th>Torque _Nm_</th>\n",
       "      <th>Tool wear _min_</th>\n",
       "      <th>Machine failure</th>\n",
       "      <th>H</th>\n",
       "      <th>L</th>\n",
       "      <th>M</th>\n",
       "    </tr>\n",
       "  </thead>\n",
       "  <tbody>\n",
       "    <tr>\n",
       "      <th>0</th>\n",
       "      <td>298.1</td>\n",
       "      <td>308.6</td>\n",
       "      <td>1551</td>\n",
       "      <td>42.8</td>\n",
       "      <td>0</td>\n",
       "      <td>0</td>\n",
       "      <td>0.0</td>\n",
       "      <td>0.0</td>\n",
       "      <td>1.0</td>\n",
       "    </tr>\n",
       "    <tr>\n",
       "      <th>1</th>\n",
       "      <td>298.2</td>\n",
       "      <td>308.7</td>\n",
       "      <td>1408</td>\n",
       "      <td>46.3</td>\n",
       "      <td>3</td>\n",
       "      <td>0</td>\n",
       "      <td>0.0</td>\n",
       "      <td>1.0</td>\n",
       "      <td>0.0</td>\n",
       "    </tr>\n",
       "    <tr>\n",
       "      <th>2</th>\n",
       "      <td>298.1</td>\n",
       "      <td>308.5</td>\n",
       "      <td>1498</td>\n",
       "      <td>49.4</td>\n",
       "      <td>5</td>\n",
       "      <td>0</td>\n",
       "      <td>0.0</td>\n",
       "      <td>1.0</td>\n",
       "      <td>0.0</td>\n",
       "    </tr>\n",
       "    <tr>\n",
       "      <th>3</th>\n",
       "      <td>298.2</td>\n",
       "      <td>308.6</td>\n",
       "      <td>1433</td>\n",
       "      <td>39.5</td>\n",
       "      <td>7</td>\n",
       "      <td>0</td>\n",
       "      <td>0.0</td>\n",
       "      <td>1.0</td>\n",
       "      <td>0.0</td>\n",
       "    </tr>\n",
       "    <tr>\n",
       "      <th>4</th>\n",
       "      <td>298.2</td>\n",
       "      <td>308.7</td>\n",
       "      <td>1408</td>\n",
       "      <td>40.0</td>\n",
       "      <td>9</td>\n",
       "      <td>0</td>\n",
       "      <td>0.0</td>\n",
       "      <td>1.0</td>\n",
       "      <td>0.0</td>\n",
       "    </tr>\n",
       "  </tbody>\n",
       "</table>\n",
       "</div>"
      ],
      "text/plain": [
       "   Air temperature _K_  Process temperature _K_  Rotational speed _rpm_  \\\n",
       "0                298.1                    308.6                    1551   \n",
       "1                298.2                    308.7                    1408   \n",
       "2                298.1                    308.5                    1498   \n",
       "3                298.2                    308.6                    1433   \n",
       "4                298.2                    308.7                    1408   \n",
       "\n",
       "   Torque _Nm_  Tool wear _min_  Machine failure    H    L    M  \n",
       "0         42.8                0                0  0.0  0.0  1.0  \n",
       "1         46.3                3                0  0.0  1.0  0.0  \n",
       "2         49.4                5                0  0.0  1.0  0.0  \n",
       "3         39.5                7                0  0.0  1.0  0.0  \n",
       "4         40.0                9                0  0.0  1.0  0.0  "
      ]
     },
     "execution_count": 17,
     "metadata": {},
     "output_type": "execute_result"
    }
   ],
   "source": [
    "#Checking the transformation and the one hot encoding\n",
    "ai4i2020.head()"
   ]
  },
  {
   "cell_type": "markdown",
   "id": "7d91256d",
   "metadata": {},
   "source": [
    "A transformation was performed on the columns' names to align with the requirements given by the XGBooster model."
   ]
  },
  {
   "cell_type": "markdown",
   "id": "d4a5df8a",
   "metadata": {},
   "source": [
    "## Question 2.1: Split the data into training and testing taking into consideration 'Machine failure' as the target (y)"
   ]
  },
  {
   "cell_type": "markdown",
   "id": "5ea249d8",
   "metadata": {},
   "source": [
    "### Splitting the data into the `training/validation` set and the `target` set."
   ]
  },
  {
   "cell_type": "code",
   "execution_count": 18,
   "id": "2a6f9bed",
   "metadata": {},
   "outputs": [],
   "source": [
    "columns_no_target = ai4i2020.columns.to_list()\n",
    "columns_no_target.remove('Machine failure')\n",
    "\n",
    "features = ai4i2020[columns_no_target]\n",
    "target = ai4i2020['Machine failure']\n",
    "\n",
    "#First split the Training/Validation and the Testing Set\n",
    "X_train_val, X_test_final, y_train_val, y_test_final = train_test_split(features, target, test_size=0.2, random_state=42)"
   ]
  },
  {
   "cell_type": "markdown",
   "id": "02beb44f",
   "metadata": {},
   "source": [
    "## Question 2.3: Apply [SMOTE](https://imbalanced-learn.org/stable/references/generated/imblearn.over_sampling.SMOTE.html) to the training data since there is class imbalance."
   ]
  },
  {
   "cell_type": "code",
   "execution_count": 19,
   "id": "9c01783f",
   "metadata": {},
   "outputs": [
    {
     "data": {
      "text/plain": [
       "0    7722\n",
       "1     278\n",
       "Name: Machine failure, dtype: int64"
      ]
     },
     "execution_count": 19,
     "metadata": {},
     "output_type": "execute_result"
    }
   ],
   "source": [
    "y_train_val.value_counts()"
   ]
  },
  {
   "cell_type": "markdown",
   "id": "9925adcd",
   "metadata": {},
   "source": [
    "It is possible to see that there is a class imbalance."
   ]
  },
  {
   "cell_type": "code",
   "execution_count": 20,
   "id": "7b4c7097",
   "metadata": {},
   "outputs": [
    {
     "data": {
      "text/plain": [
       "0    7722\n",
       "1    7722\n",
       "Name: Machine failure, dtype: int64"
      ]
     },
     "execution_count": 20,
     "metadata": {},
     "output_type": "execute_result"
    }
   ],
   "source": [
    "from imblearn.over_sampling import SMOTE\n",
    "\n",
    "sm = SMOTE(random_state=42)\n",
    "variables_res, label_res = sm.fit_resample(X_train_val, y_train_val)\n",
    "label_res.value_counts()"
   ]
  },
  {
   "cell_type": "markdown",
   "id": "cd52dd4b",
   "metadata": {},
   "source": [
    "The class imbalance situation was corrected as seen on the counts for the target variable above."
   ]
  },
  {
   "cell_type": "markdown",
   "id": "ebc185b9",
   "metadata": {},
   "source": [
    "### The `training/validation` set split into the `training` and `validation` set."
   ]
  },
  {
   "cell_type": "code",
   "execution_count": 21,
   "id": "8f27e26b",
   "metadata": {},
   "outputs": [],
   "source": [
    "#Then split the Training/Validation into the Training and the Validation set\n",
    "X_train, X_test, y_train, y_test = train_test_split(variables_res, label_res, test_size=0.2, random_state=42)"
   ]
  },
  {
   "cell_type": "markdown",
   "id": "078d16cb",
   "metadata": {},
   "source": [
    "## Question 3.1: Train five machine learning [LogisticRegression](https://scikit-learn.org/stable/modules/generated/sklearn.linear_model.LogisticRegression.html), [SVC](https://scikit-learn.org/stable/modules/generated/sklearn.svm.SVC.html), [KNeighborsClassifier](https://scikit-learn.org/stable/modules/generated/sklearn.neighbors.KNeighborsClassifier.html), [DecisionTreeClassifier](https://scikit-learn.org/stable/modules/generated/sklearn.tree.DecisionTreeClassifier.html), and [XGBClassifier](https://xgboost.readthedocs.io/en/latest/python/python_api.html#xgboost.XGBClassifier) based on the training data, and evaluate their performance on the test dataset. Use default hyperparameter values."
   ]
  },
  {
   "cell_type": "code",
   "execution_count": 22,
   "id": "dd8e4355",
   "metadata": {},
   "outputs": [],
   "source": [
    "from sklearn.linear_model import LogisticRegression\n",
    "from sklearn.svm import SVC\n",
    "from sklearn.neighbors import KNeighborsClassifier\n",
    "from sklearn.tree import DecisionTreeClassifier\n",
    "from xgboost.sklearn import XGBClassifier\n",
    "from sklearn.metrics import classification_report\n",
    "from sklearn.metrics import confusion_matrix\n",
    "from sklearn.metrics import *"
   ]
  },
  {
   "cell_type": "code",
   "execution_count": 23,
   "id": "ac2b4551",
   "metadata": {},
   "outputs": [],
   "source": [
    "#Function to calculate performance parameters based on Predictions and Actual values from the testing group\n",
    "def perfomance_values(T,Y,header):\n",
    "    print(\" \")\n",
    "    print(\"#############Classifier: \" + header + \" #############\")\n",
    "    # Confusion Matrix\n",
    "    CM = confusion_matrix(T, Y)\n",
    "    print (\"\\n\\nConfusion matrix:\\n\", CM)\n",
    "    tn, fp, fn, tp = CM.ravel()\n",
    "    print (\"\\nTP, TN, FP, FN:\", tp, \",\", tn, \",\", fp, \",\", fn)\n",
    "    AR = accuracy_score(T, Y)\n",
    "    ER = 1.0 - AR\n",
    "    P = precision_score(T, Y)\n",
    "    R = recall_score(T, Y)\n",
    "    F1 = f1_score(T, Y)\n",
    "    print (\"\\nAccuracy:\", round(AR,4), \",Error Rate:\", round(ER,4), \",Precision:\", round(P,4), \",Recall:\", round(R,4), \",F1 Score:\",round(F1,4))\n",
    "    return AR, ER, P, R, F1\n",
    "\n",
    "#Function to make sure the output is a boolean as it is needed for the roc_curve\n",
    "def booleans(vector):\n",
    "    final = []\n",
    "    for i in vector:\n",
    "        if i == 1:\n",
    "            i = 0\n",
    "        else:\n",
    "            i = 1\n",
    "        final.append(i)\n",
    "    return final\n",
    "\n",
    "#Function to train the model and obtain the perfomance values from each model (in a plot form)\n",
    "def classifier_performance(V, header, X_train, X_test, y_train, y_test):\n",
    "    accuracy_rate = []\n",
    "    error_rate = []\n",
    "    precision = []\n",
    "    recall = []\n",
    "    f1_score = []\n",
    "    for i in range(len(header)):\n",
    "        V[i].fit(X_train, y_train)\n",
    "        prediction = V[i].predict(X_test)\n",
    "        \n",
    "        #Creating a Data Frame for the Test, Prediction and Probaility Data\n",
    "        T = y_test.tolist()\n",
    "        Y = prediction.tolist()\n",
    "        Y = booleans(Y)\n",
    "        T = booleans(T)\n",
    "        AR, ER, P, R, F1 = perfomance_values(T,Y,header[i])\n",
    "        accuracy_rate.append(AR)\n",
    "        error_rate.append(ER)\n",
    "        precision.append(P)\n",
    "        recall.append(R)\n",
    "        f1_score.append(F1)\n",
    "        \n",
    "    names = ['Accuracy Rate','Error Rate','Precision','Recall','F1 Score']\n",
    "    list_of_values = [accuracy_rate, error_rate, precision, recall, f1_score]\n",
    "    colors = ['indigo', 'tomato', 'dodgerblue', 'crimson', 'darkcyan']\n",
    "    \n",
    "    #Plots of each of the Performance Values for each of the Classifiers in this analysis\n",
    "    for i in range(len(names)):\n",
    "        plt.bar(header, list_of_values[i], color=colors[i])\n",
    "        plt.xticks(rotation=45)\n",
    "        plt.title(names[i])\n",
    "        plt.ylabel(\"Score\")\n",
    "        plt.show()"
   ]
  },
  {
   "cell_type": "markdown",
   "id": "94a81035",
   "metadata": {},
   "source": [
    "## Question 3.1: Train five machine learning [LogisticRegression](https://scikit-learn.org/stable/modules/generated/sklearn.linear_model.LogisticRegression.html), [SVC](https://scikit-learn.org/stable/modules/generated/sklearn.svm.SVC.html), [KNeighborsClassifier](https://scikit-learn.org/stable/modules/generated/sklearn.neighbors.KNeighborsClassifier.html), [DecisionTreeClassifier](https://scikit-learn.org/stable/modules/generated/sklearn.tree.DecisionTreeClassifier.html), and [XGBClassifier](https://xgboost.readthedocs.io/en/latest/python/python_api.html#xgboost.XGBClassifier) based on the training data, and evaluate their performance on the test dataset. Use default hyperparameter values."
   ]
  },
  {
   "cell_type": "code",
   "execution_count": 24,
   "id": "bc45f052",
   "metadata": {},
   "outputs": [],
   "source": [
    "#Parameters for Classifiers\n",
    "k = 5 # number of neighbors\n",
    "distance_metric = 'euclidean'\n",
    "estimators = 10 # number of trees parameter\n",
    "mss = 2 # mininum samples split parameter\n",
    "\n",
    "#Classifiers\n",
    "knn = KNeighborsClassifier(n_neighbors=k, metric=distance_metric) #K Nearest Neighbors\n",
    "lrc = LogisticRegression() #Logistic Regression\n",
    "dtc = DecisionTreeClassifier() #DecisionTree\n",
    "xgb = XGBClassifier(use_label_encoder=False)\n",
    "svc = SVC() #Support Vector Classification\n",
    "\n",
    "#List for Classifiers and Names\n",
    "header = [\"KNN\",\"Logistic_Regression\",\"Decision_Tree\",\"XGB_Classifier\",\"SVC\"]\n",
    "\n",
    "V = [knn,lrc,dtc,xgb,svc]"
   ]
  },
  {
   "cell_type": "code",
   "execution_count": 25,
   "id": "adf021b1",
   "metadata": {
    "scrolled": false
   },
   "outputs": [
    {
     "name": "stdout",
     "output_type": "stream",
     "text": [
      " \n",
      "#############Classifier: KNN #############\n",
      "\n",
      "\n",
      "Confusion matrix:\n",
      " [[1491   30]\n",
      " [ 189 1379]]\n",
      "\n",
      "TP, TN, FP, FN: 1379 , 1491 , 30 , 189\n",
      "\n",
      "Accuracy: 0.9291 ,Error Rate: 0.0709 ,Precision: 0.9787 ,Recall: 0.8795 ,F1 Score: 0.9264\n",
      " \n",
      "#############Classifier: Logistic_Regression #############\n",
      "\n",
      "\n",
      "Confusion matrix:\n",
      " [[1287  234]\n",
      " [ 278 1290]]\n",
      "\n",
      "TP, TN, FP, FN: 1290 , 1287 , 234 , 278\n",
      "\n",
      "Accuracy: 0.8343 ,Error Rate: 0.1657 ,Precision: 0.8465 ,Recall: 0.8227 ,F1 Score: 0.8344\n",
      " \n",
      "#############Classifier: Decision_Tree #############\n",
      "\n",
      "\n",
      "Confusion matrix:\n",
      " [[1483   38]\n",
      " [  51 1517]]\n",
      "\n",
      "TP, TN, FP, FN: 1517 , 1483 , 38 , 51\n",
      "\n",
      "Accuracy: 0.9712 ,Error Rate: 0.0288 ,Precision: 0.9756 ,Recall: 0.9675 ,F1 Score: 0.9715\n",
      "[19:46:38] WARNING: C:/Users/Administrator/workspace/xgboost-win64_release_1.5.0/src/learner.cc:1115: Starting in XGBoost 1.3.0, the default evaluation metric used with the objective 'binary:logistic' was changed from 'error' to 'logloss'. Explicitly set eval_metric if you'd like to restore the old behavior.\n",
      " \n",
      "#############Classifier: XGB_Classifier #############\n",
      "\n",
      "\n",
      "Confusion matrix:\n",
      " [[1510   11]\n",
      " [  21 1547]]\n",
      "\n",
      "TP, TN, FP, FN: 1547 , 1510 , 11 , 21\n",
      "\n",
      "Accuracy: 0.9896 ,Error Rate: 0.0104 ,Precision: 0.9929 ,Recall: 0.9866 ,F1 Score: 0.9898\n",
      " \n",
      "#############Classifier: SVC #############\n",
      "\n",
      "\n",
      "Confusion matrix:\n",
      " [[1318  203]\n",
      " [ 313 1255]]\n",
      "\n",
      "TP, TN, FP, FN: 1255 , 1318 , 203 , 313\n",
      "\n",
      "Accuracy: 0.833 ,Error Rate: 0.167 ,Precision: 0.8608 ,Recall: 0.8004 ,F1 Score: 0.8295\n"
     ]
    },
    {
     "data": {
      "image/png": "[encoded data removed]",
      "text/plain": [
       "<Figure size 432x288 with 1 Axes>"
      ]
     },
     "metadata": {
      "needs_background": "light"
     },
     "output_type": "display_data"
    },
    {
     "data": {
      "image/png": "[encoded data removed]",
      "text/plain": [
       "<Figure size 432x288 with 1 Axes>"
      ]
     },
     "metadata": {
      "needs_background": "light"
     },
     "output_type": "display_data"
    },
    {
     "data": {
      "image/png": "[encoded data removed]",
      "text/plain": [
       "<Figure size 432x288 with 1 Axes>"
      ]
     },
     "metadata": {
      "needs_background": "light"
     },
     "output_type": "display_data"
    },
    {
     "data": {
      "image/png": "[encoded data removed]",
      "text/plain": [
       "<Figure size 432x288 with 1 Axes>"
      ]
     },
     "metadata": {
      "needs_background": "light"
     },
     "output_type": "display_data"
    },
    {
     "data": {
      "image/png": "[encoded data removed]",
      "text/plain": [
       "<Figure size 432x288 with 1 Axes>"
      ]
     },
     "metadata": {
      "needs_background": "light"
     },
     "output_type": "display_data"
    }
   ],
   "source": [
    "#Running and obtaining performance values from the Models listed above\n",
    "classifier_performance(V, header, X_train, X_test, y_train, y_test)"
   ]
  },
  {
   "cell_type": "markdown",
   "id": "01db5b1a",
   "metadata": {},
   "source": [
    "By looking at the performance values we can see that the best model for this analysis was the `XGBClassifier`."
   ]
  },
  {
   "cell_type": "markdown",
   "id": "5ee9c14e",
   "metadata": {},
   "source": [
    "## Questions 3.2:  Perform recursive feature elimination (3 features) on the dataset using a logistic regression classifier with max_iter= 1000, random_state=5.  Any difference in the results? Explain."
   ]
  },
  {
   "cell_type": "code",
   "execution_count": 26,
   "id": "e9288231",
   "metadata": {},
   "outputs": [
    {
     "name": "stderr",
     "output_type": "stream",
     "text": [
      "C:\\Users\\rodol\\Anaconda3\\lib\\site-packages\\sklearn\\utils\\validation.py:70: FutureWarning: Pass n_features_to_select=3 as keyword args. From version 1.0 (renaming of 0.25) passing these as positional arguments will result in an error\n",
      "  warnings.warn(f\"Pass {args_msg} as keyword args. From version \"\n"
     ]
    },
    {
     "name": "stdout",
     "output_type": "stream",
     "text": [
      "Accuracy: 0.5872450631272257\n",
      "AUC: 0.671841665660347\n"
     ]
    }
   ],
   "source": [
    "from sklearn.feature_selection import RFE\n",
    "\n",
    "# feature extraction\n",
    "model = LogisticRegression(max_iter= 1000, random_state=5)\n",
    "rfe = RFE(model, 3)\n",
    "fit = rfe.fit(X_train, y_train)\n",
    "y_pred = rfe.predict(X_test)\n",
    "lr_acc = accuracy_score(y_test, y_pred)\n",
    "\n",
    "# calculate the fpr and tpr for all thresholds of the classification\n",
    "probs = rfe.predict_proba(X_test)\n",
    "preds = probs[:,1]\n",
    "fpr, tpr, threshold = metrics.roc_curve(y_test, preds)\n",
    "roc_auc = metrics.roc_auc_score(y_test, preds)\n",
    "print(\"Accuracy: {}\".format(lr_acc))\n",
    "print(\"AUC: {}\".format(roc_auc))"
   ]
  },
  {
   "cell_type": "code",
   "execution_count": 27,
   "id": "5d392418",
   "metadata": {},
   "outputs": [
    {
     "data": {
      "image/png": "[encoded data removed]",
      "text/plain": [
       "<Figure size 432x288 with 1 Axes>"
      ]
     },
     "metadata": {
      "needs_background": "light"
     },
     "output_type": "display_data"
    }
   ],
   "source": [
    "# Plot the ROC curve\n",
    "plt.title('Receiver Operating Characteristic')\n",
    "plt.plot(fpr, tpr, 'b', label = 'AUC = %0.2f' % roc_auc)\n",
    "plt.legend(loc = 'lower right')\n",
    "plt.plot([0, 1], [0, 1],'r--')\n",
    "plt.xlim([0, 1])\n",
    "plt.ylim([0, 1])\n",
    "plt.ylabel('True Positive Rate')\n",
    "plt.xlabel('False Positive Rate')\n",
    "plt.show()"
   ]
  },
  {
   "cell_type": "markdown",
   "id": "b6689e71",
   "metadata": {},
   "source": [
    "In this particular case it seems that the performance of the `logistic regression` model got worse after `setting n_features_to_select` = 3 from the Recursive Feature Elimination method. Therefore we can notice the importance of selecting the right features for the analysis/model at hand, since choosing incorrectly will penalize the model performance."
   ]
  },
  {
   "cell_type": "markdown",
   "id": "2be1b695",
   "metadata": {},
   "source": [
    "## Q.4. Create a new text cell in your Notebook: Complete a 50-100 word summary (or short description of your thinking in applying this week's learning to the solution) of your experience in this assignment. Include:\n",
    "\n",
    "**During this analysis several important concepts were highlighted:**\n",
    "- Exploring the data is a critical part of the process for any Data Science project.\n",
    "- Cleaning the data is crucial for any Machine Learning model.\n",
    "- Feature engineering (and its multiple stages) involves a lot of creativity and even though there are multiple guidelines to follow, getting better on this process requires experience and hands on work on multiple projects.\n",
    "- As it is possible to see on the analysis done below (Extra analysis), choosing the right features for the model could lead to an improvement on performance even without extra tunning done to the model, for that reason it is critical spend time understanding the data.\n",
    "- If available contact the subject expert matter on the process/data used for the ML model to obtain better insights that could lead to improvements on the model performance.\n",
    "- In this case the class imbalance situation could have been a potential issue. This problem was solved by means of re-sampling.\n",
    "- One thing that was missing on this example was to explore multiple hyperparameters and perform a cross validation analysis to determine the best model and best hyperparameters for this problem."
   ]
  },
  {
   "cell_type": "markdown",
   "id": "ff77dcb4",
   "metadata": {},
   "source": [
    "# Extra analysis (Feature Engineering)\n",
    "\n",
    "In this section of the analysis, we will explore the difference in performance given by selecting different features based on different feature selection methods."
   ]
  },
  {
   "cell_type": "markdown",
   "id": "586cb961",
   "metadata": {},
   "source": [
    "## Feature Selection\n",
    "### Filter Methods\n",
    "#### Correlation"
   ]
  },
  {
   "cell_type": "code",
   "execution_count": 28,
   "id": "6a2bc1e9",
   "metadata": {},
   "outputs": [
    {
     "name": "stdout",
     "output_type": "stream",
     "text": [
      "Max correlation value is = 1.0\n",
      "Min correlation value is = 0.0224\n"
     ]
    }
   ],
   "source": [
    "correlations_df = ai4i2020.corr()\n",
    "df_correlations = correlations_df['Machine failure']\n",
    "df_correlations = pd.DataFrame(data=df_correlations)\n",
    "df_correlations['Corr_Abs'] = abs(df_correlations['Machine failure'])\n",
    "\n",
    "min_corr = min(df_correlations['Corr_Abs'])\n",
    "max_corr = max(df_correlations['Corr_Abs'][1:])\n",
    "\n",
    "print('Max correlation value is = ' + str(round(max_corr, 4)))\n",
    "print('Min correlation value is = ' + str(round(min_corr, 4)))"
   ]
  },
  {
   "cell_type": "code",
   "execution_count": 29,
   "id": "aefd4d81",
   "metadata": {},
   "outputs": [],
   "source": [
    "#list: High correlation and low correlation\n",
    "df_correlations.reset_index(inplace=True)\n",
    "high_correlated_features = []\n",
    "low_correlated_features = []\n",
    "for i in range(len(df_correlations['Corr_Abs'])):\n",
    "    p = df_correlations.iloc[i,2]\n",
    "    if p >= 0.05:\n",
    "        l = df_correlations.iloc[i,0]\n",
    "        high_correlated_features.append(l)\n",
    "    else:\n",
    "        r = df_correlations.iloc[i,0]\n",
    "        low_correlated_features.append(r)\n",
    "        \n",
    "high_correlated_features.remove('Machine failure')"
   ]
  },
  {
   "cell_type": "markdown",
   "id": "e95220f3",
   "metadata": {},
   "source": [
    "#### Mutual Information"
   ]
  },
  {
   "cell_type": "code",
   "execution_count": 30,
   "id": "a5fb5b96",
   "metadata": {},
   "outputs": [
    {
     "name": "stdout",
     "output_type": "stream",
     "text": [
      "Max mi value is = 0.148\n",
      "Min mi value is = 0.0003\n"
     ]
    }
   ],
   "source": [
    "from sklearn.metrics import mutual_info_score\n",
    "def calc_MI(x, y, bins):\n",
    "    c_xy = np.histogram2d(x, y, bins)[0]\n",
    "    mi = mutual_info_score(None, None, contingency=c_xy)\n",
    "    return mi\n",
    "\n",
    "mutual_values = []\n",
    "for i in range(len(ai4i2020.iloc[1])):\n",
    "    X = ai4i2020.iloc[:,i].tolist()\n",
    "    Y = ai4i2020['Machine failure'].tolist()\n",
    "    mi = calc_MI(X, Y, 20)\n",
    "    mutual_values.append(mi)\n",
    "    \n",
    "my_list_mutual = ai4i2020.columns.values.tolist()    \n",
    "mutual_info_dict = dict(zip(my_list_mutual, mutual_values))\n",
    "mutual_info_dict_sorted = sorted(mutual_info_dict.items(), key=lambda x: x[1], reverse = True)\n",
    "df_correlations['Mutual_info'] = mutual_values\n",
    "\n",
    "min_mi = min(df_correlations['Mutual_info'])\n",
    "max_mi = max(df_correlations['Mutual_info'][1:])\n",
    "\n",
    "print('Max mi value is = ' + str(round(max_mi, 4)))\n",
    "print('Min mi value is = ' + str(round(min_mi, 4)))"
   ]
  },
  {
   "cell_type": "code",
   "execution_count": 31,
   "id": "a530b9e8",
   "metadata": {},
   "outputs": [
    {
     "name": "stdout",
     "output_type": "stream",
     "text": [
      "# of Features using MI: 3\n"
     ]
    }
   ],
   "source": [
    "#List: High mi and low mi\n",
    "high_mi_features = []\n",
    "low_mi_features = []\n",
    "for i in range(len(df_correlations['Mutual_info'])):\n",
    "    w = df_correlations.iloc[i,3]\n",
    "    if w >= 0.01:\n",
    "        q = df_correlations.iloc[i,0]\n",
    "        high_mi_features.append(q)\n",
    "    else:\n",
    "        k = df_correlations.iloc[i,0]\n",
    "        low_mi_features.append(k)\n",
    "        \n",
    "high_mi_features.remove('Machine failure')\n",
    "\n",
    "len_mi = len(high_mi_features)\n",
    "print('# of Features using MI: ' + str(len_mi))"
   ]
  },
  {
   "cell_type": "code",
   "execution_count": 32,
   "id": "156d060b",
   "metadata": {},
   "outputs": [
    {
     "data": {
      "text/plain": [
       "2"
      ]
     },
     "execution_count": 32,
     "metadata": {},
     "output_type": "execute_result"
    }
   ],
   "source": [
    "elements_in_both = sum(x in high_correlated_features for x in high_mi_features)\n",
    "elements_in_both"
   ]
  },
  {
   "cell_type": "markdown",
   "id": "d1cd1cd6",
   "metadata": {},
   "source": [
    "### Wrapper Methods"
   ]
  },
  {
   "cell_type": "markdown",
   "id": "f542b1eb",
   "metadata": {},
   "source": [
    "#### Stepwise Model Selection"
   ]
  },
  {
   "cell_type": "code",
   "execution_count": 33,
   "id": "43e357ab",
   "metadata": {},
   "outputs": [
    {
     "name": "stdout",
     "output_type": "stream",
     "text": [
      "# of Features using BACKWARD: 4\n"
     ]
    },
    {
     "name": "stderr",
     "output_type": "stream",
     "text": [
      "C:\\Users\\rodol\\Anaconda3\\lib\\site-packages\\sklearn\\utils\\validation.py:70: FutureWarning: Pass n_features_to_select=4 as keyword args. From version 1.0 (renaming of 0.25) passing these as positional arguments will result in an error\n",
      "  warnings.warn(f\"Pass {args_msg} as keyword args. From version \"\n"
     ]
    }
   ],
   "source": [
    "from sklearn.datasets import make_friedman1\n",
    "from sklearn.feature_selection import RFE #Recursive Feature Elimination\n",
    "from sklearn.linear_model import LinearRegression\n",
    "\n",
    "estimator = LinearRegression()\n",
    "selector = RFE(estimator, 4, step=1)\n",
    "\n",
    "df_copy = ai4i2020.copy()\n",
    "\n",
    "target = ai4i2020['Machine failure']#This is the selection of the Target Variables\n",
    "df_updated = df_copy.drop('Machine failure', axis='columns')\n",
    "\n",
    "lol = df_updated.values.tolist()\n",
    "selector = selector.fit(lol, target)\n",
    "\n",
    "boolean_values = selector.support_\n",
    "ranking_values = selector.ranking_\n",
    "wrapper_columns = df_updated.columns.values.tolist()\n",
    "\n",
    "#Selection of the features with ranking 1\n",
    "selected_features = []\n",
    "unselected_features = []\n",
    "for i in range(len(wrapper_columns)):\n",
    "    w = boolean_values[i]\n",
    "    if w == True:\n",
    "        b = wrapper_columns[i]\n",
    "        selected_features.append(b)\n",
    "    else:\n",
    "        v = wrapper_columns[i]\n",
    "        unselected_features.append(v)\n",
    "        \n",
    "len_selected = len(selected_features)\n",
    "print('# of Features using BACKWARD: ' + str(len_selected))"
   ]
  },
  {
   "cell_type": "markdown",
   "id": "82b08e66",
   "metadata": {},
   "source": [
    "### Embedded Methods"
   ]
  },
  {
   "cell_type": "markdown",
   "id": "b3db6579",
   "metadata": {},
   "source": [
    "#### Lasso"
   ]
  },
  {
   "cell_type": "code",
   "execution_count": 34,
   "id": "6b77d84c",
   "metadata": {},
   "outputs": [
    {
     "name": "stdout",
     "output_type": "stream",
     "text": [
      "# of Features using LASSO: 6\n"
     ]
    }
   ],
   "source": [
    "# LASSO\n",
    "from sklearn import linear_model\n",
    "alpha = 0.001 # Increasing alpha can shrink more variable coefficients to 0\n",
    "clf = linear_model.Lasso(alpha=alpha)\n",
    "\n",
    "clf.fit(lol, target)\n",
    "lasso_coef = clf.coef_\n",
    "\n",
    "#Selection of the non zero coefficients from the LASSO regression\n",
    "lasso_features = []\n",
    "non_lasso_features = []\n",
    "for i in range(len(wrapper_columns)):\n",
    "    w = lasso_coef[i]\n",
    "    if w != 0:\n",
    "        u = wrapper_columns[i]\n",
    "        lasso_features.append(u)\n",
    "    else:\n",
    "        t = wrapper_columns[i]\n",
    "        non_lasso_features.append(t)\n",
    "        \n",
    "len_lasso = len(lasso_features)\n",
    "print('# of Features using LASSO: ' + str(len_lasso))"
   ]
  },
  {
   "cell_type": "markdown",
   "id": "ca1b7e4a",
   "metadata": {},
   "source": [
    "## Evaluation of the different models"
   ]
  },
  {
   "cell_type": "code",
   "execution_count": 35,
   "id": "49e395a2",
   "metadata": {},
   "outputs": [],
   "source": [
    "from collections import Counter\n",
    "from sklearn.datasets import make_classification\n",
    "\n",
    "correlation_variables = ai4i2020[high_correlated_features]\n",
    "mi_variables = ai4i2020[high_mi_features]\n",
    "stepwise_variables = ai4i2020[selected_features]\n",
    "lasso_variables = ai4i2020[lasso_features]\n",
    "\n",
    "X_train_mi, X_test_mi, y_train_mi, y_test_mi = train_test_split(mi_variables, target, test_size=0.30, random_state=42)\n",
    "X_train_sp, X_test_sp, y_train_sp, y_test_sp = train_test_split(stepwise_variables, target, test_size=0.30, random_state=42)\n",
    "X_train_la, X_test_la, y_train_la, y_test_la = train_test_split(lasso_variables, target, test_size=0.30, random_state=42)\n",
    "\n",
    "variables_mi_sm, label_mi_sm = sm.fit_resample(mi_variables, target)\n",
    "variables_sp_sm, label_sp_sm = sm.fit_resample(stepwise_variables, target)\n",
    "variables_la_sm, label_la_sm = sm.fit_resample(lasso_variables, target)\n",
    "\n",
    "X_train_mi_sm, X_test_mi_sm, y_train_mi_sm, y_test_mi_sm = train_test_split(variables_mi_sm, label_mi_sm, test_size=0.30, random_state=42)\n",
    "X_train_sp_sm, X_test_sp_sm, y_train_sp_sm, y_test_sp_sm = train_test_split(variables_sp_sm, label_sp_sm, test_size=0.30, random_state=42)\n",
    "X_train_la_sm, X_test_la_sm, y_train_la_sm, y_test_la_sm = train_test_split(variables_la_sm, label_la_sm, test_size=0.30, random_state=42)"
   ]
  },
  {
   "cell_type": "code",
   "execution_count": 36,
   "id": "4ccd0650",
   "metadata": {},
   "outputs": [],
   "source": [
    "def perfomance_values_updated(T,Y,header):\n",
    "    #print(\"Classifier: \", header)\n",
    "    # Confusion Matrix\n",
    "    CM = confusion_matrix(T, Y)\n",
    "    #print (\"\\n\\nConfusion matrix:\\n\", CM)\n",
    "    tn, fp, fn, tp = CM.ravel()\n",
    "    #print (\"\\nTP, TN, FP, FN:\", tp, \",\", tn, \",\", fp, \",\", fn)\n",
    "    AR = accuracy_score(T, Y)\n",
    "    ER = 1.0 - AR\n",
    "    P = precision_score(T, Y)\n",
    "    R = recall_score(T, Y)\n",
    "    F1 = f1_score(T, Y)\n",
    "    #print (\"\\nAccuracy:\", round(AR,4), \",Error Rate:\", round(ER,4), \",Precision:\", round(P,4), \",Recall:\", round(R,4), \",F1 Score:\",round(F1,4))\n",
    "    #print (\" \")\n",
    "    return AR, ER, P, R, F1"
   ]
  },
  {
   "cell_type": "code",
   "execution_count": 37,
   "id": "d27e54bf",
   "metadata": {},
   "outputs": [],
   "source": [
    "#Function to train the model and obtain the perfomance values from each model (in a plot form)\n",
    "def performance_methods(V, header, X_train, X_test, y_train, y_test):\n",
    "    accuracy_rate = []\n",
    "    error_rate = []\n",
    "    precision = []\n",
    "    recall = []\n",
    "    f1_score = []\n",
    "    for i in range(len(header)):\n",
    "        V[i].fit(X_train, y_train)\n",
    "        #proba = V[i].predict_proba(X_test)[:,1]#Predictions and probabilities\n",
    "        prediction = V[i].predict(X_test)\n",
    "        #Creating a Data Frame for the Test, Prediction and Probaility Data\n",
    "        T = y_test.values.tolist()\n",
    "        Y = prediction.tolist()\n",
    "        #y = proba.tolist()\n",
    "        Y = booleans(Y)\n",
    "        T = booleans(T)\n",
    "        AR, ER, P, R, F1 = perfomance_values_updated(T,Y,header[i])\n",
    "        accuracy_rate.append(AR)\n",
    "        error_rate.append(ER)\n",
    "        precision.append(P)\n",
    "        recall.append(R)\n",
    "        f1_score.append(F1)\n",
    "        #ROM_plots(T,y)\n",
    "        allvalues = [AR, ER, P, R, F1]\n",
    "    return allvalues"
   ]
  },
  {
   "cell_type": "markdown",
   "id": "3dc5d6bb",
   "metadata": {},
   "source": [
    "### Model Selection For Comparison"
   ]
  },
  {
   "cell_type": "code",
   "execution_count": 38,
   "id": "aff087b8",
   "metadata": {},
   "outputs": [],
   "source": [
    "#Parameters for Classifiers\n",
    "k = 5 # number of neighbors\n",
    "distance_metric = 'euclidean'\n",
    "estimators = 10 # number of trees parameter\n",
    "mss = 2 # mininum samples split parameter\n",
    "\n",
    "#Classifiers\n",
    "knn = KNeighborsClassifier(n_neighbors=k, metric=distance_metric) #K Nearest Neighbors\n",
    "\n",
    "#List for Classifiers and Names\n",
    "header = [\"K_Nearest_Neighbors\"]\n",
    "V = [knn]"
   ]
  },
  {
   "cell_type": "markdown",
   "id": "23a3d73b",
   "metadata": {},
   "source": [
    "#### Model using Filter Method"
   ]
  },
  {
   "cell_type": "code",
   "execution_count": 39,
   "id": "f7159cd0",
   "metadata": {
    "scrolled": false
   },
   "outputs": [],
   "source": [
    "filters = performance_methods(V, header, X_train_mi_sm, X_test_mi, y_train_mi_sm, y_test_mi)"
   ]
  },
  {
   "cell_type": "markdown",
   "id": "31b56df4",
   "metadata": {},
   "source": [
    "#### Model using Wrapper Method"
   ]
  },
  {
   "cell_type": "code",
   "execution_count": 40,
   "id": "f2d04054",
   "metadata": {},
   "outputs": [],
   "source": [
    "wrappers = performance_methods(V, header, X_train_sp_sm, X_test_sp, y_train_sp_sm, y_test_sp)"
   ]
  },
  {
   "cell_type": "markdown",
   "id": "03c74fe1",
   "metadata": {},
   "source": [
    "#### Model using Embedded Method"
   ]
  },
  {
   "cell_type": "code",
   "execution_count": 41,
   "id": "99cf847b",
   "metadata": {},
   "outputs": [],
   "source": [
    "embedded = performance_methods(V, header, X_train_la_sm, X_test_la, y_train_la_sm, y_test_la)"
   ]
  },
  {
   "cell_type": "markdown",
   "id": "dc950eaf",
   "metadata": {},
   "source": [
    "### Comparison"
   ]
  },
  {
   "cell_type": "code",
   "execution_count": 42,
   "id": "0f362acd",
   "metadata": {},
   "outputs": [
    {
     "data": {
      "image/png": "[encoded data removed]",
      "text/plain": [
       "<Figure size 432x288 with 1 Axes>"
      ]
     },
     "metadata": {
      "needs_background": "light"
     },
     "output_type": "display_data"
    },
    {
     "data": {
      "image/png": "[encoded data removed]",
      "text/plain": [
       "<Figure size 432x288 with 1 Axes>"
      ]
     },
     "metadata": {
      "needs_background": "light"
     },
     "output_type": "display_data"
    },
    {
     "data": {
      "image/png": "[encoded data removed]",
      "text/plain": [
       "<Figure size 432x288 with 1 Axes>"
      ]
     },
     "metadata": {
      "needs_background": "light"
     },
     "output_type": "display_data"
    },
    {
     "data": {
      "image/png": "[encoded data removed]",
      "text/plain": [
       "<Figure size 432x288 with 1 Axes>"
      ]
     },
     "metadata": {
      "needs_background": "light"
     },
     "output_type": "display_data"
    },
    {
     "data": {
      "image/png": "[encoded data removed]",
      "text/plain": [
       "<Figure size 432x288 with 1 Axes>"
      ]
     },
     "metadata": {
      "needs_background": "light"
     },
     "output_type": "display_data"
    }
   ],
   "source": [
    "comparison_list = [filters,wrappers,embedded]\n",
    "names = ['Accuracy Rate','Error Rate','Precision','Recall','F1 Score']\n",
    "colors = ['indigo', 'tomato', 'dodgerblue', 'crimson', 'darkcyan']\n",
    "header = [\"Filter\",\"Wrapper\",\"Embedded\"]    \n",
    "#Plots of each of the Performance Values for each of the Classifiers in this analysis\n",
    "for i in range(len(names)):\n",
    "    x = [item[i] for item in comparison_list]\n",
    "    plt.bar(header, x, color=colors[i])\n",
    "    plt.xticks(rotation=45)\n",
    "    plt.title(names[i])\n",
    "    plt.ylabel(\"Score\")\n",
    "    plt.show()"
   ]
  },
  {
   "cell_type": "markdown",
   "id": "e10d6d3d",
   "metadata": {},
   "source": [
    "## Comments\n",
    "\n",
    "By looking at the performance values on the same model but using different features for the model based on different feature selection methods, it is possible to notice the improvements on performance compared to the 1st model where we included all the variables.\n",
    "\n",
    "In this particular case it seems that `Filter` and `Embedded` methods were the best option for this dataset."
   ]
  }
 ],
 "metadata": {
  "kernelspec": {
   "display_name": "Python 3",
   "language": "python",
   "name": "python3"
  },
  "language_info": {
   "codemirror_mode": {
    "name": "ipython",
    "version": 3
   },
   "file_extension": ".py",
   "mimetype": "text/x-python",
   "name": "python",
   "nbconvert_exporter": "python",
   "pygments_lexer": "ipython3",
   "version": "3.8.8"
  }
 },
 "nbformat": 4,
 "nbformat_minor": 5
}
