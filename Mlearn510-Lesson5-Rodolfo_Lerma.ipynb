{
 "cells": [
  {
   "cell_type": "markdown",
   "id": "60b105ac",
   "metadata": {},
   "source": [
    "# Predictive Maintenance \n",
    "\n",
    "### Student: Rodolfo Lerma"
   ]
  },
  {
   "cell_type": "markdown",
   "id": "252ed1b1",
   "metadata": {},
   "source": [
    "This assignment covers the topic of predictive maintenance. Predictive Maintenance problems adress predicting when a machine needs to be maintained ahead of breaking down. This problem can occur anywhere regular maintenance is required for a machine. For example, it can be used in manufacturing, fleet operations, train maintenance, etc."
   ]
  },
  {
   "cell_type": "markdown",
   "id": "4f31879a",
   "metadata": {},
   "source": [
    "This assignment will use the [Predictive Maintenance Dataset](https://archive.ics.uci.edu/ml/datasets/AI4I+2020+Predictive+Maintenance+Dataset). The dataset consists of 10 000 data points stored as rows with 14 features in columns. The 'machine failure' label that indicates, whether the machine has failed in this particular datapoint."
   ]
  },
  {
   "cell_type": "markdown",
   "id": "dfd78329",
   "metadata": {},
   "source": [
    "# Learning Objectives\n",
    "- Perform model tuning based on hyper parameters.\n",
    "- Select the best model after attempting multiple models.\n",
    "- Perform recursive feature elimination, producing a statistically significant improvement over a model without feature selection."
   ]
  },
  {
   "cell_type": "code",
   "execution_count": 1,
   "id": "6f2df1ee",
   "metadata": {},
   "outputs": [
    {
     "name": "stdout",
     "output_type": "stream",
     "text": [
      "<class 'pandas.core.frame.DataFrame'>\n",
      "RangeIndex: 10000 entries, 0 to 9999\n",
      "Data columns (total 9 columns):\n",
      " #   Column                   Non-Null Count  Dtype  \n",
      "---  ------                   --------------  -----  \n",
      " 0   UDI                      10000 non-null  int64  \n",
      " 1   Product ID               10000 non-null  object \n",
      " 2   Type                     10000 non-null  object \n",
      " 3   Air temperature [K]      10000 non-null  object \n",
      " 4   Process temperature [K]  10000 non-null  object \n",
      " 5   Rotational speed [rpm]   10000 non-null  int64  \n",
      " 6   Torque [Nm]              10000 non-null  float64\n",
      " 7   Tool wear [min]          10000 non-null  int64  \n",
      " 8   Machine failure          10000 non-null  int64  \n",
      "dtypes: float64(1), int64(4), object(4)\n",
      "memory usage: 703.2+ KB\n",
      "None\n"
     ]
    }
   ],
   "source": [
    "import pandas as pd\n",
    "import numpy as np\n",
    "from sklearn import preprocessing, metrics\n",
    "from sklearn.model_selection import train_test_split\n",
    "\n",
    "ai4i2020 = pd.read_csv('ai4i2020.csv')\n",
    "print(ai4i2020.info())"
   ]
  },
  {
   "cell_type": "code",
   "execution_count": 2,
   "id": "6bff4963",
   "metadata": {},
   "outputs": [
    {
     "data": {
      "text/html": [
       "<div>\n",
       "<style scoped>\n",
       "    .dataframe tbody tr th:only-of-type {\n",
       "        vertical-align: middle;\n",
       "    }\n",
       "\n",
       "    .dataframe tbody tr th {\n",
       "        vertical-align: top;\n",
       "    }\n",
       "\n",
       "    .dataframe thead th {\n",
       "        text-align: right;\n",
       "    }\n",
       "</style>\n",
       "<table border=\"1\" class=\"dataframe\">\n",
       "  <thead>\n",
       "    <tr style=\"text-align: right;\">\n",
       "      <th></th>\n",
       "      <th>UDI</th>\n",
       "      <th>Product ID</th>\n",
       "      <th>Type</th>\n",
       "      <th>Air temperature [K]</th>\n",
       "      <th>Process temperature [K]</th>\n",
       "      <th>Rotational speed [rpm]</th>\n",
       "      <th>Torque [Nm]</th>\n",
       "      <th>Tool wear [min]</th>\n",
       "      <th>Machine failure</th>\n",
       "    </tr>\n",
       "  </thead>\n",
       "  <tbody>\n",
       "    <tr>\n",
       "      <th>0</th>\n",
       "      <td>1</td>\n",
       "      <td>M14860</td>\n",
       "      <td>M</td>\n",
       "      <td>298.1</td>\n",
       "      <td>308.6</td>\n",
       "      <td>1551</td>\n",
       "      <td>42.8</td>\n",
       "      <td>0</td>\n",
       "      <td>0</td>\n",
       "    </tr>\n",
       "    <tr>\n",
       "      <th>1</th>\n",
       "      <td>2</td>\n",
       "      <td>L47181</td>\n",
       "      <td>L</td>\n",
       "      <td>298.2</td>\n",
       "      <td>308.7</td>\n",
       "      <td>1408</td>\n",
       "      <td>46.3</td>\n",
       "      <td>3</td>\n",
       "      <td>0</td>\n",
       "    </tr>\n",
       "    <tr>\n",
       "      <th>2</th>\n",
       "      <td>3</td>\n",
       "      <td>L47182</td>\n",
       "      <td>L</td>\n",
       "      <td>298.1</td>\n",
       "      <td>308.5</td>\n",
       "      <td>1498</td>\n",
       "      <td>49.4</td>\n",
       "      <td>5</td>\n",
       "      <td>0</td>\n",
       "    </tr>\n",
       "    <tr>\n",
       "      <th>3</th>\n",
       "      <td>4</td>\n",
       "      <td>L47183</td>\n",
       "      <td>L</td>\n",
       "      <td>298.2</td>\n",
       "      <td>308.6</td>\n",
       "      <td>1433</td>\n",
       "      <td>39.5</td>\n",
       "      <td>7</td>\n",
       "      <td>0</td>\n",
       "    </tr>\n",
       "    <tr>\n",
       "      <th>4</th>\n",
       "      <td>5</td>\n",
       "      <td>L47184</td>\n",
       "      <td>L</td>\n",
       "      <td>298.2</td>\n",
       "      <td>308.7</td>\n",
       "      <td>1408</td>\n",
       "      <td>40.0</td>\n",
       "      <td>9</td>\n",
       "      <td>0</td>\n",
       "    </tr>\n",
       "    <tr>\n",
       "      <th>5</th>\n",
       "      <td>6</td>\n",
       "      <td>M14865</td>\n",
       "      <td>M</td>\n",
       "      <td>298.1</td>\n",
       "      <td>308.6</td>\n",
       "      <td>1425</td>\n",
       "      <td>41.9</td>\n",
       "      <td>11</td>\n",
       "      <td>0</td>\n",
       "    </tr>\n",
       "    <tr>\n",
       "      <th>6</th>\n",
       "      <td>7</td>\n",
       "      <td>L47186</td>\n",
       "      <td>L</td>\n",
       "      <td>298.1</td>\n",
       "      <td>308.6</td>\n",
       "      <td>1558</td>\n",
       "      <td>42.4</td>\n",
       "      <td>14</td>\n",
       "      <td>0</td>\n",
       "    </tr>\n",
       "    <tr>\n",
       "      <th>7</th>\n",
       "      <td>8</td>\n",
       "      <td>L47187</td>\n",
       "      <td>L</td>\n",
       "      <td>298.1</td>\n",
       "      <td>308.6</td>\n",
       "      <td>1527</td>\n",
       "      <td>40.2</td>\n",
       "      <td>16</td>\n",
       "      <td>0</td>\n",
       "    </tr>\n",
       "    <tr>\n",
       "      <th>8</th>\n",
       "      <td>9</td>\n",
       "      <td>M14868</td>\n",
       "      <td>M</td>\n",
       "      <td>298.3</td>\n",
       "      <td>308.7</td>\n",
       "      <td>1667</td>\n",
       "      <td>28.6</td>\n",
       "      <td>18</td>\n",
       "      <td>0</td>\n",
       "    </tr>\n",
       "    <tr>\n",
       "      <th>9</th>\n",
       "      <td>10</td>\n",
       "      <td>M14869</td>\n",
       "      <td>M</td>\n",
       "      <td>298.5</td>\n",
       "      <td>309</td>\n",
       "      <td>1741</td>\n",
       "      <td>28.0</td>\n",
       "      <td>21</td>\n",
       "      <td>0</td>\n",
       "    </tr>\n",
       "  </tbody>\n",
       "</table>\n",
       "</div>"
      ],
      "text/plain": [
       "   UDI Product ID Type Air temperature [K] Process temperature [K]  \\\n",
       "0    1     M14860    M               298.1                   308.6   \n",
       "1    2     L47181    L               298.2                   308.7   \n",
       "2    3     L47182    L               298.1                   308.5   \n",
       "3    4     L47183    L               298.2                   308.6   \n",
       "4    5     L47184    L               298.2                   308.7   \n",
       "5    6     M14865    M               298.1                   308.6   \n",
       "6    7     L47186    L               298.1                   308.6   \n",
       "7    8     L47187    L               298.1                   308.6   \n",
       "8    9     M14868    M               298.3                   308.7   \n",
       "9   10     M14869    M               298.5                     309   \n",
       "\n",
       "   Rotational speed [rpm]  Torque [Nm]  Tool wear [min]  Machine failure  \n",
       "0                    1551         42.8                0                0  \n",
       "1                    1408         46.3                3                0  \n",
       "2                    1498         49.4                5                0  \n",
       "3                    1433         39.5                7                0  \n",
       "4                    1408         40.0                9                0  \n",
       "5                    1425         41.9               11                0  \n",
       "6                    1558         42.4               14                0  \n",
       "7                    1527         40.2               16                0  \n",
       "8                    1667         28.6               18                0  \n",
       "9                    1741         28.0               21                0  "
      ]
     },
     "execution_count": 2,
     "metadata": {},
     "output_type": "execute_result"
    }
   ],
   "source": [
    "ai4i2020.head(10)"
   ]
  },
  {
   "cell_type": "code",
   "execution_count": 3,
   "id": "8d7ca3a2",
   "metadata": {},
   "outputs": [
    {
     "data": {
      "text/plain": [
       "(10000, 9)"
      ]
     },
     "execution_count": 3,
     "metadata": {},
     "output_type": "execute_result"
    }
   ],
   "source": [
    "ai4i2020.shape"
   ]
  },
  {
   "cell_type": "code",
   "execution_count": 4,
   "id": "20402043",
   "metadata": {},
   "outputs": [
    {
     "data": {
      "text/plain": [
       "UDI                          int64\n",
       "Product ID                  object\n",
       "Type                        object\n",
       "Air temperature [K]         object\n",
       "Process temperature [K]     object\n",
       "Rotational speed [rpm]       int64\n",
       "Torque [Nm]                float64\n",
       "Tool wear [min]              int64\n",
       "Machine failure              int64\n",
       "dtype: object"
      ]
     },
     "execution_count": 4,
     "metadata": {},
     "output_type": "execute_result"
    }
   ],
   "source": [
    "ai4i2020.dtypes"
   ]
  },
  {
   "cell_type": "markdown",
   "id": "51c160fe",
   "metadata": {},
   "source": [
    "## Question 1.1:  Write a command that will calculate the number of unique values for each feature in the training data."
   ]
  },
  {
   "cell_type": "code",
   "execution_count": 5,
   "id": "9b346b51",
   "metadata": {
    "scrolled": false
   },
   "outputs": [
    {
     "name": "stdout",
     "output_type": "stream",
     "text": [
      " \n",
      "****************\n",
      " \n",
      "2049    1\n",
      "8865    1\n",
      "6806    1\n",
      "4759    1\n",
      "8857    1\n",
      "       ..\n",
      "9526    1\n",
      "5432    1\n",
      "7481    1\n",
      "1338    1\n",
      "2047    1\n",
      "Name: UDI, Length: 10000, dtype: int64\n",
      " \n",
      "****************\n",
      " \n",
      "L48931    1\n",
      "L50527    1\n",
      "M22467    1\n",
      "L53732    1\n",
      "L49937    1\n",
      "         ..\n",
      "M21134    1\n",
      "L56472    1\n",
      "L50967    1\n",
      "M16245    1\n",
      "L49482    1\n",
      "Name: Product ID, Length: 10000, dtype: int64\n",
      " \n",
      "****************\n",
      " \n",
      "L    6000\n",
      "M    2997\n",
      "H    1003\n",
      "Name: Type, dtype: int64\n",
      " \n",
      "****************\n",
      " \n",
      "300.7    279\n",
      "298.9    231\n",
      "297.4    230\n",
      "300.5    229\n",
      "298.8    227\n",
      "        ... \n",
      "304.4      7\n",
      "296        6\n",
      "295.4      3\n",
      "295.3      3\n",
      "304.5      1\n",
      "Name: Air temperature [K], Length: 93, dtype: int64\n",
      " \n",
      "****************\n",
      " \n",
      "310.6    317\n",
      "310.8    273\n",
      "310.7    266\n",
      "308.6    265\n",
      "310.5    263\n",
      "        ... \n",
      "306.9      4\n",
      "306.8      4\n",
      "305.8      3\n",
      "305.7      2\n",
      "313.8      2\n",
      "Name: Process temperature [K], Length: 82, dtype: int64\n",
      " \n",
      "****************\n",
      " \n",
      "1452    48\n",
      "1435    43\n",
      "1447    42\n",
      "1469    40\n",
      "1479    40\n",
      "        ..\n",
      "2165     1\n",
      "2133     1\n",
      "2117     1\n",
      "2109     1\n",
      "2047     1\n",
      "Name: Rotational speed [rpm], Length: 941, dtype: int64\n",
      " \n",
      "****************\n",
      " \n",
      "40.2    52\n",
      "42.4    50\n",
      "35.8    50\n",
      "38.5    50\n",
      "37.7    49\n",
      "        ..\n",
      "67.8     1\n",
      "14.3     1\n",
      "9.8      1\n",
      "8.0      1\n",
      "68.5     1\n",
      "Name: Torque [Nm], Length: 577, dtype: int64\n",
      " \n",
      "****************\n",
      " \n",
      "0      120\n",
      "2       69\n",
      "5       63\n",
      "59      58\n",
      "7       58\n",
      "      ... \n",
      "236      1\n",
      "237      1\n",
      "253      1\n",
      "251      1\n",
      "239      1\n",
      "Name: Tool wear [min], Length: 246, dtype: int64\n",
      " \n",
      "****************\n",
      " \n",
      "0    9661\n",
      "1     339\n",
      "Name: Machine failure, dtype: int64\n"
     ]
    }
   ],
   "source": [
    "columns_names = ai4i2020.columns.to_list()\n",
    "\n",
    "for i in columns_names:\n",
    "    unique_values = ai4i2020[i].value_counts(dropna=False)\n",
    "    print(' ')\n",
    "    print('****************')\n",
    "    print(' ')\n",
    "    print(unique_values)"
   ]
  },
  {
   "cell_type": "code",
   "execution_count": 6,
   "id": "1ca4bfc0",
   "metadata": {},
   "outputs": [
    {
     "name": "stdout",
     "output_type": "stream",
     "text": [
      "Number of Unique Values per Column\n",
      " \n",
      "UDI\n",
      "10000\n",
      " \n",
      "************\n",
      "Product ID\n",
      "10000\n",
      " \n",
      "************\n",
      "Type\n",
      "3\n",
      " \n",
      "************\n",
      "Air temperature [K]\n",
      "93\n",
      " \n",
      "************\n",
      "Process temperature [K]\n",
      "82\n",
      " \n",
      "************\n",
      "Rotational speed [rpm]\n",
      "941\n",
      " \n",
      "************\n",
      "Torque [Nm]\n",
      "577\n",
      " \n",
      "************\n",
      "Tool wear [min]\n",
      "246\n",
      " \n",
      "************\n",
      "Machine failure\n",
      "2\n",
      " \n",
      "************\n"
     ]
    }
   ],
   "source": [
    "print('Number of Unique Values per Column')\n",
    "print(' ')\n",
    "for i in columns_names:\n",
    "    unique = ai4i2020[i].nunique()\n",
    "    print(i)\n",
    "    print(unique)\n",
    "    print(' ')\n",
    "    print('************')"
   ]
  },
  {
   "cell_type": "markdown",
   "id": "9b23b95c",
   "metadata": {},
   "source": [
    "## Question 1.2: Determine if the data contains any missing values, and replace the values with np.nan. Missing values would be '?'."
   ]
  },
  {
   "cell_type": "code",
   "execution_count": 7,
   "id": "11123046",
   "metadata": {},
   "outputs": [],
   "source": [
    "ai4i2020.replace('?', np.nan, inplace=True)"
   ]
  },
  {
   "cell_type": "code",
   "execution_count": 8,
   "id": "61fc64a9",
   "metadata": {},
   "outputs": [
    {
     "data": {
      "text/plain": [
       "UDI                          0\n",
       "Product ID                   0\n",
       "Type                         0\n",
       "Air temperature [K]        140\n",
       "Process temperature [K]    183\n",
       "Rotational speed [rpm]       0\n",
       "Torque [Nm]                  0\n",
       "Tool wear [min]              0\n",
       "Machine failure              0\n",
       "dtype: int64"
      ]
     },
     "execution_count": 8,
     "metadata": {},
     "output_type": "execute_result"
    }
   ],
   "source": [
    "ai4i2020.isnull().sum() #checking the dataset for NaN values .... NaN values in two columns"
   ]
  },
  {
   "cell_type": "markdown",
   "id": "5ada8021",
   "metadata": {},
   "source": [
    "## Question 1.3: Replace all missing values with the mean. Change column types to numeric."
   ]
  },
  {
   "cell_type": "code",
   "execution_count": 9,
   "id": "4acca411",
   "metadata": {},
   "outputs": [],
   "source": [
    "#replace missing values with their mode\n",
    "import statistics as st\n",
    "sample_columns = ['Air temperature [K]','Process temperature [K]']\n",
    "for i in sample_columns:\n",
    "    ai4i2020[i] = pd.to_numeric(ai4i2020[i])\n",
    "    ai4i2020[i].fillna(np.mean(ai4i2020[i]), inplace=True)"
   ]
  },
  {
   "cell_type": "markdown",
   "id": "f553b671",
   "metadata": {},
   "source": [
    "## Question 1.4: Drop UDI and 'Product ID' from the data"
   ]
  },
  {
   "cell_type": "code",
   "execution_count": 10,
   "id": "62ddd310",
   "metadata": {},
   "outputs": [
    {
     "data": {
      "text/html": [
       "<div>\n",
       "<style scoped>\n",
       "    .dataframe tbody tr th:only-of-type {\n",
       "        vertical-align: middle;\n",
       "    }\n",
       "\n",
       "    .dataframe tbody tr th {\n",
       "        vertical-align: top;\n",
       "    }\n",
       "\n",
       "    .dataframe thead th {\n",
       "        text-align: right;\n",
       "    }\n",
       "</style>\n",
       "<table border=\"1\" class=\"dataframe\">\n",
       "  <thead>\n",
       "    <tr style=\"text-align: right;\">\n",
       "      <th></th>\n",
       "      <th>Type</th>\n",
       "      <th>Air temperature [K]</th>\n",
       "      <th>Process temperature [K]</th>\n",
       "      <th>Rotational speed [rpm]</th>\n",
       "      <th>Torque [Nm]</th>\n",
       "      <th>Tool wear [min]</th>\n",
       "      <th>Machine failure</th>\n",
       "    </tr>\n",
       "  </thead>\n",
       "  <tbody>\n",
       "    <tr>\n",
       "      <th>0</th>\n",
       "      <td>M</td>\n",
       "      <td>298.1</td>\n",
       "      <td>308.6</td>\n",
       "      <td>1551</td>\n",
       "      <td>42.8</td>\n",
       "      <td>0</td>\n",
       "      <td>0</td>\n",
       "    </tr>\n",
       "    <tr>\n",
       "      <th>1</th>\n",
       "      <td>L</td>\n",
       "      <td>298.2</td>\n",
       "      <td>308.7</td>\n",
       "      <td>1408</td>\n",
       "      <td>46.3</td>\n",
       "      <td>3</td>\n",
       "      <td>0</td>\n",
       "    </tr>\n",
       "    <tr>\n",
       "      <th>2</th>\n",
       "      <td>L</td>\n",
       "      <td>298.1</td>\n",
       "      <td>308.5</td>\n",
       "      <td>1498</td>\n",
       "      <td>49.4</td>\n",
       "      <td>5</td>\n",
       "      <td>0</td>\n",
       "    </tr>\n",
       "    <tr>\n",
       "      <th>3</th>\n",
       "      <td>L</td>\n",
       "      <td>298.2</td>\n",
       "      <td>308.6</td>\n",
       "      <td>1433</td>\n",
       "      <td>39.5</td>\n",
       "      <td>7</td>\n",
       "      <td>0</td>\n",
       "    </tr>\n",
       "    <tr>\n",
       "      <th>4</th>\n",
       "      <td>L</td>\n",
       "      <td>298.2</td>\n",
       "      <td>308.7</td>\n",
       "      <td>1408</td>\n",
       "      <td>40.0</td>\n",
       "      <td>9</td>\n",
       "      <td>0</td>\n",
       "    </tr>\n",
       "  </tbody>\n",
       "</table>\n",
       "</div>"
      ],
      "text/plain": [
       "  Type  Air temperature [K]  Process temperature [K]  Rotational speed [rpm]  \\\n",
       "0    M                298.1                    308.6                    1551   \n",
       "1    L                298.2                    308.7                    1408   \n",
       "2    L                298.1                    308.5                    1498   \n",
       "3    L                298.2                    308.6                    1433   \n",
       "4    L                298.2                    308.7                    1408   \n",
       "\n",
       "   Torque [Nm]  Tool wear [min]  Machine failure  \n",
       "0         42.8                0                0  \n",
       "1         46.3                3                0  \n",
       "2         49.4                5                0  \n",
       "3         39.5                7                0  \n",
       "4         40.0                9                0  "
      ]
     },
     "execution_count": 10,
     "metadata": {},
     "output_type": "execute_result"
    }
   ],
   "source": [
    "ai4i2020.drop(columns=['UDI', 'Product ID'], inplace=True)\n",
    "ai4i2020.head()"
   ]
  },
  {
   "cell_type": "markdown",
   "id": "57fdd17f",
   "metadata": {},
   "source": [
    "## Question 2.2: Apply [One-Hot Encoding](https://scikit-learn.org/stable/modules/generated/sklearn.preprocessing.OneHotEncoder.html) to data. Make sure to Fit the training data and transform both training and test data. "
   ]
  },
  {
   "cell_type": "code",
   "execution_count": 11,
   "id": "edfcd95b",
   "metadata": {},
   "outputs": [],
   "source": [
    "from sklearn.preprocessing import OneHotEncoder\n",
    "\n",
    "hot_encoder = OneHotEncoder(sparse=False)\n",
    "x = ai4i2020['Type'].values.reshape(-1, 1)\n",
    "ai4i2020_hot = hot_encoder.fit_transform(x)"
   ]
  },
  {
   "cell_type": "code",
   "execution_count": 12,
   "id": "aad33b1e",
   "metadata": {},
   "outputs": [],
   "source": [
    "column_names = hot_encoder.categories_"
   ]
  },
  {
   "cell_type": "code",
   "execution_count": 28,
   "id": "4017444e",
   "metadata": {},
   "outputs": [],
   "source": [
    "for i in range(3):\n",
    "    ai4i2020[column_names[0][i]] = ai4i2020_hot[:,i].tolist()"
   ]
  },
  {
   "cell_type": "code",
   "execution_count": 31,
   "id": "9c7d2b66",
   "metadata": {},
   "outputs": [],
   "source": [
    "ai4i2020.drop(columns=['Type'], inplace = True)"
   ]
  },
  {
   "cell_type": "markdown",
   "id": "1de8592e",
   "metadata": {},
   "source": [
    "## Question 2.1: Split the data into training and testing taking into consideration 'Machine failure' as the target (y)"
   ]
  },
  {
   "cell_type": "code",
   "execution_count": 15,
   "id": "1ad4a170",
   "metadata": {},
   "outputs": [],
   "source": [
    "from sklearn.preprocessing import OneHotEncoder\n"
   ]
  },
  {
   "cell_type": "markdown",
   "id": "705aab57",
   "metadata": {},
   "source": [
    "## Question 2.3: Apply [SMOTE](https://imbalanced-learn.org/stable/references/generated/imblearn.over_sampling.SMOTE.html) to the training data since there is class imbalance."
   ]
  },
  {
   "cell_type": "code",
   "execution_count": 16,
   "id": "0e98f693",
   "metadata": {},
   "outputs": [
    {
     "ename": "ModuleNotFoundError",
     "evalue": "No module named 'imblearn'",
     "output_type": "error",
     "traceback": [
      "\u001b[1;31m---------------------------------------------------------------------------\u001b[0m",
      "\u001b[1;31mModuleNotFoundError\u001b[0m                       Traceback (most recent call last)",
      "\u001b[1;32m<ipython-input-16-0b052d41b57a>\u001b[0m in \u001b[0;36m<module>\u001b[1;34m\u001b[0m\n\u001b[1;32m----> 1\u001b[1;33m \u001b[1;32mfrom\u001b[0m \u001b[0mimblearn\u001b[0m\u001b[1;33m.\u001b[0m\u001b[0mover_sampling\u001b[0m \u001b[1;32mimport\u001b[0m \u001b[0mSMOTE\u001b[0m\u001b[1;33m\u001b[0m\u001b[1;33m\u001b[0m\u001b[0m\n\u001b[0m",
      "\u001b[1;31mModuleNotFoundError\u001b[0m: No module named 'imblearn'"
     ]
    }
   ],
   "source": [
    "from imblearn.over_sampling import SMOTE\n"
   ]
  },
  {
   "cell_type": "markdown",
   "id": "909633ab",
   "metadata": {},
   "source": [
    "## Question 3.1: Train five machine learning [LogisticRegression](https://scikit-learn.org/stable/modules/generated/sklearn.linear_model.LogisticRegression.html), [SVC](https://scikit-learn.org/stable/modules/generated/sklearn.svm.SVC.html), [KNeighborsClassifier](https://scikit-learn.org/stable/modules/generated/sklearn.neighbors.KNeighborsClassifier.html), [DecisionTreeClassifier](https://scikit-learn.org/stable/modules/generated/sklearn.tree.DecisionTreeClassifier.html), and [XGBClassifier](https://xgboost.readthedocs.io/en/latest/python/python_api.html#xgboost.XGBClassifier) based on the training data, and evaluate their performance on the test dataset. Use default hyperparameter values."
   ]
  },
  {
   "cell_type": "code",
   "execution_count": null,
   "id": "dbfff6c1",
   "metadata": {},
   "outputs": [],
   "source": [
    "from sklearn.linear_model import LogisticRegression\n",
    "from sklearn.svm import SVC\n",
    "from sklearn.neighbors import KNeighborsClassifier\n",
    "from sklearn.tree import DecisionTreeClassifier\n",
    "from xgboost.sklearn import XGBClassifier\n",
    "from sklearn.metrics import classification_report\n",
    "from sklearn.metrics import confusion_matrix\n"
   ]
  },
  {
   "cell_type": "code",
   "execution_count": null,
   "id": "a8d2792f",
   "metadata": {},
   "outputs": [],
   "source": [
    "#Build models (You can either do it combined or separate)\n",
    "\n",
    "models = {'Logistic Regresion': LogisticRegression(), 'Support Vector Machine': SVC(), 'K-NN': KNeighborsClassifier(), 'Decision Tree':DecisionTreeClassifier(),'XGBoost': XGBClassifier()}\n"
   ]
  },
  {
   "cell_type": "markdown",
   "id": "c35894ae",
   "metadata": {},
   "source": [
    "## Questions 3.2:  Perform recursive feature elimination (3 features) on the dataset using a logistic regression classifier with max_iter= 1000, random_state=5.  Any difference in the results? Explain."
   ]
  },
  {
   "cell_type": "code",
   "execution_count": null,
   "id": "1987d5b9",
   "metadata": {},
   "outputs": [],
   "source": [
    "from sklearn.feature_selection import RFE\n"
   ]
  },
  {
   "cell_type": "markdown",
   "id": "305efedc",
   "metadata": {},
   "source": [
    "## Q.4. Create a new text cell in your Notebook: Complete a 50-100 word summary (or short description of your thinking in applying this week's learning to the solution) of your experience in this assignment. Include:\n",
    "What was your incoming experience with this model, if any? what steps you took, what obstacles you encountered. how you link this exercise to real-world, machine learning problem-solving. (What steps were missing? What else do you need to learn?) This summary allows your instructor to know how you are doing and allot points for your effort in thinking and planning, and making connections to real-world work. "
   ]
  },
  {
   "cell_type": "code",
   "execution_count": null,
   "id": "719baee8",
   "metadata": {},
   "outputs": [],
   "source": []
  }
 ],
 "metadata": {
  "kernelspec": {
   "display_name": "Python 3",
   "language": "python",
   "name": "python3"
  },
  "language_info": {
   "codemirror_mode": {
    "name": "ipython",
    "version": 3
   },
   "file_extension": ".py",
   "mimetype": "text/x-python",
   "name": "python",
   "nbconvert_exporter": "python",
   "pygments_lexer": "ipython3",
   "version": "3.8.8"
  }
 },
 "nbformat": 4,
 "nbformat_minor": 5
}
